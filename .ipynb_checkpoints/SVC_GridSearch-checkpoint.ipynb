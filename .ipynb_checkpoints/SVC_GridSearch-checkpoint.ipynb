{
 "cells": [
  {
   "cell_type": "markdown",
   "id": "58d23186-60d1-4eef-a837-00f68ef41bbc",
   "metadata": {},
   "source": [
    "# Support Vector Classifier & GridSearch"
   ]
  },
  {
   "cell_type": "markdown",
   "id": "9f27ad96-0664-4eee-bfbf-3c8ac02653cf",
   "metadata": {},
   "source": [
    "## Import Libraries "
   ]
  },
  {
   "cell_type": "code",
   "execution_count": 1,
   "id": "4bd68862-73ac-4c7b-886a-59ff7d9e5827",
   "metadata": {
    "tags": []
   },
   "outputs": [],
   "source": [
    "import os\n",
    "import pandas as pd\n",
    "import numpy as np\n",
    "import datetime\n",
    "import seaborn as sns\n",
    "import matplotlib.pyplot as plt\n",
    "%matplotlib inline\n",
    "import plotly.express as px\n",
    "import plotly.graph_objects as go\n",
    "import matplotlib.dates as mdates\n",
    "from sklearn.model_selection import train_test_split\n",
    "from sklearn.tree import DecisionTreeClassifier\n",
    "from sklearn.tree import DecisionTreeRegressor\n",
    "from sklearn import metrics\n",
    "from sklearn.metrics import confusion_matrix\n",
    "from sklearn.metrics import recall_score\n",
    "from sklearn.metrics import accuracy_score\n",
    "from sklearn.metrics import precision_score\n",
    "from sklearn.metrics import roc_auc_score\n",
    "from sklearn.metrics import roc_curve\n",
    "from sklearn.metrics import f1_score\n",
    "from sklearn.metrics import fbeta_score\n",
    "from sklearn.metrics import mean_absolute_error\n",
    "from sklearn.metrics import mean_squared_error\n",
    "from sklearn.metrics import r2_score\n",
    "from sklearn.metrics import classification_report\n",
    "from sklearn.model_selection import cross_val_score\n",
    "from sklearn.svm import SVC\n",
    "from sklearn.model_selection import GridSearchCV\n",
    "from sklearn.metrics import classification_report, ConfusionMatrixDisplay, accuracy_score\n",
    "from sklearn.ensemble import RandomForestClassifier\n",
    "xformatter = mdates.DateFormatter('%H:%M') # for time axis plots\n",
    "\n",
    "# import plotly.offline as py\n",
    "# py.init_notebook_mode(connected=True)\n",
    "# teste\n",
    "\n",
    "import sklearn\n",
    "from scipy.optimize import curve_fit\n",
    "\n",
    "import warnings\n",
    "warnings.filterwarnings('ignore')"
   ]
  },
  {
   "cell_type": "markdown",
   "id": "ce2ce204-3079-41a1-84ea-872a5b9d63c4",
   "metadata": {},
   "source": [
    "## Get and show the Data"
   ]
  },
  {
   "cell_type": "markdown",
   "id": "598471d0-aa40-46ed-8d1b-2bb8c002ee7c",
   "metadata": {},
   "source": [
    "Read the CSV file. The file uses tabs ('\\t') as the separator between values in each row."
   ]
  },
  {
   "cell_type": "code",
   "execution_count": 2,
   "id": "9b07a3d3-5967-48aa-940a-53a9f39b4f2e",
   "metadata": {
    "tags": []
   },
   "outputs": [],
   "source": [
    "data = pd.read_csv('marketing_campaign.csv', sep=\"\\t\")"
   ]
  },
  {
   "cell_type": "markdown",
   "id": "0813d8ac-9e14-41af-9bca-c93724ce352b",
   "metadata": {},
   "source": [
    "Retrieve the column labels from the dataset."
   ]
  },
  {
   "cell_type": "code",
   "execution_count": 3,
   "id": "640d1df7-8417-48ab-880e-5a1fe1a846ff",
   "metadata": {
    "tags": []
   },
   "outputs": [
    {
     "data": {
      "text/plain": [
       "Index(['ID', 'Year_Birth', 'Education', 'Marital_Status', 'Income', 'Kidhome',\n",
       "       'Teenhome', 'Dt_Customer', 'Recency', 'MntWines', 'MntFruits',\n",
       "       'MntMeatProducts', 'MntFishProducts', 'MntSweetProducts',\n",
       "       'MntGoldProds', 'NumDealsPurchases', 'NumWebPurchases',\n",
       "       'NumCatalogPurchases', 'NumStorePurchases', 'NumWebVisitsMonth',\n",
       "       'AcceptedCmp3', 'AcceptedCmp4', 'AcceptedCmp5', 'AcceptedCmp1',\n",
       "       'AcceptedCmp2', 'Complain', 'Z_CostContact', 'Z_Revenue', 'Response'],\n",
       "      dtype='object')"
      ]
     },
     "execution_count": 3,
     "metadata": {},
     "output_type": "execute_result"
    }
   ],
   "source": [
    "data.columns"
   ]
  },
  {
   "cell_type": "markdown",
   "id": "bb7b397c-9939-42c2-9e54-3fcc9c98d224",
   "metadata": {},
   "source": [
    "Revealing Structure, Data Types, non-null counts, and memory usage."
   ]
  },
  {
   "cell_type": "code",
   "execution_count": 4,
   "id": "bd8a405f-43d9-4ed5-9032-88e3b4922b7f",
   "metadata": {
    "tags": []
   },
   "outputs": [
    {
     "name": "stdout",
     "output_type": "stream",
     "text": [
      "<class 'pandas.core.frame.DataFrame'>\n",
      "RangeIndex: 2240 entries, 0 to 2239\n",
      "Data columns (total 29 columns):\n",
      " #   Column               Non-Null Count  Dtype  \n",
      "---  ------               --------------  -----  \n",
      " 0   ID                   2240 non-null   int64  \n",
      " 1   Year_Birth           2240 non-null   int64  \n",
      " 2   Education            2240 non-null   object \n",
      " 3   Marital_Status       2240 non-null   object \n",
      " 4   Income               2216 non-null   float64\n",
      " 5   Kidhome              2240 non-null   int64  \n",
      " 6   Teenhome             2240 non-null   int64  \n",
      " 7   Dt_Customer          2240 non-null   object \n",
      " 8   Recency              2240 non-null   int64  \n",
      " 9   MntWines             2240 non-null   int64  \n",
      " 10  MntFruits            2240 non-null   int64  \n",
      " 11  MntMeatProducts      2240 non-null   int64  \n",
      " 12  MntFishProducts      2240 non-null   int64  \n",
      " 13  MntSweetProducts     2240 non-null   int64  \n",
      " 14  MntGoldProds         2240 non-null   int64  \n",
      " 15  NumDealsPurchases    2240 non-null   int64  \n",
      " 16  NumWebPurchases      2240 non-null   int64  \n",
      " 17  NumCatalogPurchases  2240 non-null   int64  \n",
      " 18  NumStorePurchases    2240 non-null   int64  \n",
      " 19  NumWebVisitsMonth    2240 non-null   int64  \n",
      " 20  AcceptedCmp3         2240 non-null   int64  \n",
      " 21  AcceptedCmp4         2240 non-null   int64  \n",
      " 22  AcceptedCmp5         2240 non-null   int64  \n",
      " 23  AcceptedCmp1         2240 non-null   int64  \n",
      " 24  AcceptedCmp2         2240 non-null   int64  \n",
      " 25  Complain             2240 non-null   int64  \n",
      " 26  Z_CostContact        2240 non-null   int64  \n",
      " 27  Z_Revenue            2240 non-null   int64  \n",
      " 28  Response             2240 non-null   int64  \n",
      "dtypes: float64(1), int64(25), object(3)\n",
      "memory usage: 507.6+ KB\n"
     ]
    }
   ],
   "source": [
    "data.info()"
   ]
  },
  {
   "cell_type": "markdown",
   "id": "b3eb8fe7-d538-4125-98ba-644e8e8ab301",
   "metadata": {},
   "source": [
    "Method for counting unique values in each column."
   ]
  },
  {
   "cell_type": "code",
   "execution_count": 5,
   "id": "61851ca3-a8a0-448c-9acb-8de80854975d",
   "metadata": {
    "tags": []
   },
   "outputs": [
    {
     "data": {
      "text/plain": [
       "ID                     2240\n",
       "Year_Birth               59\n",
       "Education                 5\n",
       "Marital_Status            8\n",
       "Income                 1974\n",
       "Kidhome                   3\n",
       "Teenhome                  3\n",
       "Dt_Customer             663\n",
       "Recency                 100\n",
       "MntWines                776\n",
       "MntFruits               158\n",
       "MntMeatProducts         558\n",
       "MntFishProducts         182\n",
       "MntSweetProducts        177\n",
       "MntGoldProds            213\n",
       "NumDealsPurchases        15\n",
       "NumWebPurchases          15\n",
       "NumCatalogPurchases      14\n",
       "NumStorePurchases        14\n",
       "NumWebVisitsMonth        16\n",
       "AcceptedCmp3              2\n",
       "AcceptedCmp4              2\n",
       "AcceptedCmp5              2\n",
       "AcceptedCmp1              2\n",
       "AcceptedCmp2              2\n",
       "Complain                  2\n",
       "Z_CostContact             1\n",
       "Z_Revenue                 1\n",
       "Response                  2\n",
       "dtype: int64"
      ]
     },
     "execution_count": 5,
     "metadata": {},
     "output_type": "execute_result"
    }
   ],
   "source": [
    "data.nunique()"
   ]
  },
  {
   "cell_type": "markdown",
   "id": "b5fa85ae-759a-4bd3-8188-74dc64d884c5",
   "metadata": {},
   "source": [
    "## Data Transformation"
   ]
  },
  {
   "cell_type": "markdown",
   "id": "909efe1b-21a0-4db4-834e-8c3f8de75a51",
   "metadata": {},
   "source": [
    "Eliminating Columns: removing the <em>Z_CostContact</em> and <em>Z_Revenue<em/> columns from the DataFrame"
   ]
  },
  {
   "cell_type": "code",
   "execution_count": 6,
   "id": "515890f5-d3bb-4a21-abbd-763086da1f19",
   "metadata": {
    "tags": []
   },
   "outputs": [
    {
     "data": {
      "text/html": [
       "<div>\n",
       "<style scoped>\n",
       "    .dataframe tbody tr th:only-of-type {\n",
       "        vertical-align: middle;\n",
       "    }\n",
       "\n",
       "    .dataframe tbody tr th {\n",
       "        vertical-align: top;\n",
       "    }\n",
       "\n",
       "    .dataframe thead th {\n",
       "        text-align: right;\n",
       "    }\n",
       "</style>\n",
       "<table border=\"1\" class=\"dataframe\">\n",
       "  <thead>\n",
       "    <tr style=\"text-align: right;\">\n",
       "      <th></th>\n",
       "      <th>ID</th>\n",
       "      <th>Year_Birth</th>\n",
       "      <th>Education</th>\n",
       "      <th>Marital_Status</th>\n",
       "      <th>Income</th>\n",
       "      <th>Kidhome</th>\n",
       "      <th>Teenhome</th>\n",
       "      <th>Dt_Customer</th>\n",
       "      <th>Recency</th>\n",
       "      <th>MntWines</th>\n",
       "      <th>...</th>\n",
       "      <th>NumCatalogPurchases</th>\n",
       "      <th>NumStorePurchases</th>\n",
       "      <th>NumWebVisitsMonth</th>\n",
       "      <th>AcceptedCmp3</th>\n",
       "      <th>AcceptedCmp4</th>\n",
       "      <th>AcceptedCmp5</th>\n",
       "      <th>AcceptedCmp1</th>\n",
       "      <th>AcceptedCmp2</th>\n",
       "      <th>Complain</th>\n",
       "      <th>Response</th>\n",
       "    </tr>\n",
       "  </thead>\n",
       "  <tbody>\n",
       "    <tr>\n",
       "      <th>0</th>\n",
       "      <td>5524</td>\n",
       "      <td>1957</td>\n",
       "      <td>Graduation</td>\n",
       "      <td>Single</td>\n",
       "      <td>58138.0</td>\n",
       "      <td>0</td>\n",
       "      <td>0</td>\n",
       "      <td>04-09-2012</td>\n",
       "      <td>58</td>\n",
       "      <td>635</td>\n",
       "      <td>...</td>\n",
       "      <td>10</td>\n",
       "      <td>4</td>\n",
       "      <td>7</td>\n",
       "      <td>0</td>\n",
       "      <td>0</td>\n",
       "      <td>0</td>\n",
       "      <td>0</td>\n",
       "      <td>0</td>\n",
       "      <td>0</td>\n",
       "      <td>1</td>\n",
       "    </tr>\n",
       "    <tr>\n",
       "      <th>1</th>\n",
       "      <td>2174</td>\n",
       "      <td>1954</td>\n",
       "      <td>Graduation</td>\n",
       "      <td>Single</td>\n",
       "      <td>46344.0</td>\n",
       "      <td>1</td>\n",
       "      <td>1</td>\n",
       "      <td>08-03-2014</td>\n",
       "      <td>38</td>\n",
       "      <td>11</td>\n",
       "      <td>...</td>\n",
       "      <td>1</td>\n",
       "      <td>2</td>\n",
       "      <td>5</td>\n",
       "      <td>0</td>\n",
       "      <td>0</td>\n",
       "      <td>0</td>\n",
       "      <td>0</td>\n",
       "      <td>0</td>\n",
       "      <td>0</td>\n",
       "      <td>0</td>\n",
       "    </tr>\n",
       "    <tr>\n",
       "      <th>2</th>\n",
       "      <td>4141</td>\n",
       "      <td>1965</td>\n",
       "      <td>Graduation</td>\n",
       "      <td>Together</td>\n",
       "      <td>71613.0</td>\n",
       "      <td>0</td>\n",
       "      <td>0</td>\n",
       "      <td>21-08-2013</td>\n",
       "      <td>26</td>\n",
       "      <td>426</td>\n",
       "      <td>...</td>\n",
       "      <td>2</td>\n",
       "      <td>10</td>\n",
       "      <td>4</td>\n",
       "      <td>0</td>\n",
       "      <td>0</td>\n",
       "      <td>0</td>\n",
       "      <td>0</td>\n",
       "      <td>0</td>\n",
       "      <td>0</td>\n",
       "      <td>0</td>\n",
       "    </tr>\n",
       "    <tr>\n",
       "      <th>3</th>\n",
       "      <td>6182</td>\n",
       "      <td>1984</td>\n",
       "      <td>Graduation</td>\n",
       "      <td>Together</td>\n",
       "      <td>26646.0</td>\n",
       "      <td>1</td>\n",
       "      <td>0</td>\n",
       "      <td>10-02-2014</td>\n",
       "      <td>26</td>\n",
       "      <td>11</td>\n",
       "      <td>...</td>\n",
       "      <td>0</td>\n",
       "      <td>4</td>\n",
       "      <td>6</td>\n",
       "      <td>0</td>\n",
       "      <td>0</td>\n",
       "      <td>0</td>\n",
       "      <td>0</td>\n",
       "      <td>0</td>\n",
       "      <td>0</td>\n",
       "      <td>0</td>\n",
       "    </tr>\n",
       "    <tr>\n",
       "      <th>4</th>\n",
       "      <td>5324</td>\n",
       "      <td>1981</td>\n",
       "      <td>PhD</td>\n",
       "      <td>Married</td>\n",
       "      <td>58293.0</td>\n",
       "      <td>1</td>\n",
       "      <td>0</td>\n",
       "      <td>19-01-2014</td>\n",
       "      <td>94</td>\n",
       "      <td>173</td>\n",
       "      <td>...</td>\n",
       "      <td>3</td>\n",
       "      <td>6</td>\n",
       "      <td>5</td>\n",
       "      <td>0</td>\n",
       "      <td>0</td>\n",
       "      <td>0</td>\n",
       "      <td>0</td>\n",
       "      <td>0</td>\n",
       "      <td>0</td>\n",
       "      <td>0</td>\n",
       "    </tr>\n",
       "    <tr>\n",
       "      <th>...</th>\n",
       "      <td>...</td>\n",
       "      <td>...</td>\n",
       "      <td>...</td>\n",
       "      <td>...</td>\n",
       "      <td>...</td>\n",
       "      <td>...</td>\n",
       "      <td>...</td>\n",
       "      <td>...</td>\n",
       "      <td>...</td>\n",
       "      <td>...</td>\n",
       "      <td>...</td>\n",
       "      <td>...</td>\n",
       "      <td>...</td>\n",
       "      <td>...</td>\n",
       "      <td>...</td>\n",
       "      <td>...</td>\n",
       "      <td>...</td>\n",
       "      <td>...</td>\n",
       "      <td>...</td>\n",
       "      <td>...</td>\n",
       "      <td>...</td>\n",
       "    </tr>\n",
       "    <tr>\n",
       "      <th>2235</th>\n",
       "      <td>10870</td>\n",
       "      <td>1967</td>\n",
       "      <td>Graduation</td>\n",
       "      <td>Married</td>\n",
       "      <td>61223.0</td>\n",
       "      <td>0</td>\n",
       "      <td>1</td>\n",
       "      <td>13-06-2013</td>\n",
       "      <td>46</td>\n",
       "      <td>709</td>\n",
       "      <td>...</td>\n",
       "      <td>3</td>\n",
       "      <td>4</td>\n",
       "      <td>5</td>\n",
       "      <td>0</td>\n",
       "      <td>0</td>\n",
       "      <td>0</td>\n",
       "      <td>0</td>\n",
       "      <td>0</td>\n",
       "      <td>0</td>\n",
       "      <td>0</td>\n",
       "    </tr>\n",
       "    <tr>\n",
       "      <th>2236</th>\n",
       "      <td>4001</td>\n",
       "      <td>1946</td>\n",
       "      <td>PhD</td>\n",
       "      <td>Together</td>\n",
       "      <td>64014.0</td>\n",
       "      <td>2</td>\n",
       "      <td>1</td>\n",
       "      <td>10-06-2014</td>\n",
       "      <td>56</td>\n",
       "      <td>406</td>\n",
       "      <td>...</td>\n",
       "      <td>2</td>\n",
       "      <td>5</td>\n",
       "      <td>7</td>\n",
       "      <td>0</td>\n",
       "      <td>0</td>\n",
       "      <td>0</td>\n",
       "      <td>1</td>\n",
       "      <td>0</td>\n",
       "      <td>0</td>\n",
       "      <td>0</td>\n",
       "    </tr>\n",
       "    <tr>\n",
       "      <th>2237</th>\n",
       "      <td>7270</td>\n",
       "      <td>1981</td>\n",
       "      <td>Graduation</td>\n",
       "      <td>Divorced</td>\n",
       "      <td>56981.0</td>\n",
       "      <td>0</td>\n",
       "      <td>0</td>\n",
       "      <td>25-01-2014</td>\n",
       "      <td>91</td>\n",
       "      <td>908</td>\n",
       "      <td>...</td>\n",
       "      <td>3</td>\n",
       "      <td>13</td>\n",
       "      <td>6</td>\n",
       "      <td>0</td>\n",
       "      <td>1</td>\n",
       "      <td>0</td>\n",
       "      <td>0</td>\n",
       "      <td>0</td>\n",
       "      <td>0</td>\n",
       "      <td>0</td>\n",
       "    </tr>\n",
       "    <tr>\n",
       "      <th>2238</th>\n",
       "      <td>8235</td>\n",
       "      <td>1956</td>\n",
       "      <td>Master</td>\n",
       "      <td>Together</td>\n",
       "      <td>69245.0</td>\n",
       "      <td>0</td>\n",
       "      <td>1</td>\n",
       "      <td>24-01-2014</td>\n",
       "      <td>8</td>\n",
       "      <td>428</td>\n",
       "      <td>...</td>\n",
       "      <td>5</td>\n",
       "      <td>10</td>\n",
       "      <td>3</td>\n",
       "      <td>0</td>\n",
       "      <td>0</td>\n",
       "      <td>0</td>\n",
       "      <td>0</td>\n",
       "      <td>0</td>\n",
       "      <td>0</td>\n",
       "      <td>0</td>\n",
       "    </tr>\n",
       "    <tr>\n",
       "      <th>2239</th>\n",
       "      <td>9405</td>\n",
       "      <td>1954</td>\n",
       "      <td>PhD</td>\n",
       "      <td>Married</td>\n",
       "      <td>52869.0</td>\n",
       "      <td>1</td>\n",
       "      <td>1</td>\n",
       "      <td>15-10-2012</td>\n",
       "      <td>40</td>\n",
       "      <td>84</td>\n",
       "      <td>...</td>\n",
       "      <td>1</td>\n",
       "      <td>4</td>\n",
       "      <td>7</td>\n",
       "      <td>0</td>\n",
       "      <td>0</td>\n",
       "      <td>0</td>\n",
       "      <td>0</td>\n",
       "      <td>0</td>\n",
       "      <td>0</td>\n",
       "      <td>1</td>\n",
       "    </tr>\n",
       "  </tbody>\n",
       "</table>\n",
       "<p>2240 rows × 27 columns</p>\n",
       "</div>"
      ],
      "text/plain": [
       "         ID  Year_Birth   Education Marital_Status   Income  Kidhome  \\\n",
       "0      5524        1957  Graduation         Single  58138.0        0   \n",
       "1      2174        1954  Graduation         Single  46344.0        1   \n",
       "2      4141        1965  Graduation       Together  71613.0        0   \n",
       "3      6182        1984  Graduation       Together  26646.0        1   \n",
       "4      5324        1981         PhD        Married  58293.0        1   \n",
       "...     ...         ...         ...            ...      ...      ...   \n",
       "2235  10870        1967  Graduation        Married  61223.0        0   \n",
       "2236   4001        1946         PhD       Together  64014.0        2   \n",
       "2237   7270        1981  Graduation       Divorced  56981.0        0   \n",
       "2238   8235        1956      Master       Together  69245.0        0   \n",
       "2239   9405        1954         PhD        Married  52869.0        1   \n",
       "\n",
       "      Teenhome Dt_Customer  Recency  MntWines  ...  NumCatalogPurchases  \\\n",
       "0            0  04-09-2012       58       635  ...                   10   \n",
       "1            1  08-03-2014       38        11  ...                    1   \n",
       "2            0  21-08-2013       26       426  ...                    2   \n",
       "3            0  10-02-2014       26        11  ...                    0   \n",
       "4            0  19-01-2014       94       173  ...                    3   \n",
       "...        ...         ...      ...       ...  ...                  ...   \n",
       "2235         1  13-06-2013       46       709  ...                    3   \n",
       "2236         1  10-06-2014       56       406  ...                    2   \n",
       "2237         0  25-01-2014       91       908  ...                    3   \n",
       "2238         1  24-01-2014        8       428  ...                    5   \n",
       "2239         1  15-10-2012       40        84  ...                    1   \n",
       "\n",
       "      NumStorePurchases  NumWebVisitsMonth  AcceptedCmp3  AcceptedCmp4  \\\n",
       "0                     4                  7             0             0   \n",
       "1                     2                  5             0             0   \n",
       "2                    10                  4             0             0   \n",
       "3                     4                  6             0             0   \n",
       "4                     6                  5             0             0   \n",
       "...                 ...                ...           ...           ...   \n",
       "2235                  4                  5             0             0   \n",
       "2236                  5                  7             0             0   \n",
       "2237                 13                  6             0             1   \n",
       "2238                 10                  3             0             0   \n",
       "2239                  4                  7             0             0   \n",
       "\n",
       "      AcceptedCmp5  AcceptedCmp1  AcceptedCmp2  Complain  Response  \n",
       "0                0             0             0         0         1  \n",
       "1                0             0             0         0         0  \n",
       "2                0             0             0         0         0  \n",
       "3                0             0             0         0         0  \n",
       "4                0             0             0         0         0  \n",
       "...            ...           ...           ...       ...       ...  \n",
       "2235             0             0             0         0         0  \n",
       "2236             0             1             0         0         0  \n",
       "2237             0             0             0         0         0  \n",
       "2238             0             0             0         0         0  \n",
       "2239             0             0             0         0         1  \n",
       "\n",
       "[2240 rows x 27 columns]"
      ]
     },
     "execution_count": 6,
     "metadata": {},
     "output_type": "execute_result"
    }
   ],
   "source": [
    "data.drop(['Z_CostContact', 'Z_Revenue'], axis = 1)"
   ]
  },
  {
   "cell_type": "markdown",
   "id": "b1dd3ea6-7a03-41a7-8bfb-1502c01e2ff7",
   "metadata": {},
   "source": [
    "Cleaning Rows: eliminates rows containing any missing (NaN) values, ensuring a DataFrame without such incomplete data"
   ]
  },
  {
   "cell_type": "code",
   "execution_count": 7,
   "id": "ea5ce7c7-48a4-4b68-88d0-92d82404a568",
   "metadata": {
    "tags": []
   },
   "outputs": [],
   "source": [
    "data = data.dropna()"
   ]
  },
  {
   "cell_type": "markdown",
   "id": "5ac8ead9-02f4-472b-a9af-44d13fd4f09f",
   "metadata": {},
   "source": [
    "Using pd.to_datetime(), the <em>Dt_Customer</em> column, originally stored as an object, is converted to a datetime format. The specified format '%d-%m-%Y' indicates the day-month-year sequence within the <em>Dt_Customer</em> column, reformatting it to a standardized date representation"
   ]
  },
  {
   "cell_type": "code",
   "execution_count": 8,
   "id": "d45bdc12-028c-4f5c-bb69-ac9827529644",
   "metadata": {
    "tags": []
   },
   "outputs": [],
   "source": [
    "data['Dt_Customer'] = pd.to_datetime(data['Dt_Customer'], format='%d-%m-%Y')"
   ]
  },
  {
   "cell_type": "markdown",
   "id": "8e8c16b1-5a87-4b18-b00d-7342f458801c",
   "metadata": {},
   "source": [
    "These operations transform the 'data' DataFrame by altering, creating, and refining columns and their contents for better analysis and clarity"
   ]
  },
  {
   "cell_type": "code",
   "execution_count": 9,
   "id": "33d6ce49-7f61-4eba-b528-3d5d3a399879",
   "metadata": {
    "tags": []
   },
   "outputs": [],
   "source": [
    "data[\"Age\"] = 2023 - data[\"Year_Birth\"]\n",
    "data[\"Kids\"] = data[\"Kidhome\"] + data[\"Teenhome\"]\n",
    "data[\"Spent\"] = data[\"MntWines\"]+ data[\"MntFruits\"]+ data[\"MntMeatProducts\"]+ data[\"MntFishProducts\"]+ data[\"MntSweetProducts\"]+ data[\"MntGoldProds\"]\n",
    "data[\"Marital_Status\"]=data[\"Marital_Status\"].replace({\"Married\":\"1\", \"Together\":\"1\",\"Absurd\":\"0\", \"Widow\":\"0\", \"YOLO\":\"0\", \"Divorced\":\"0\", \"Single\":\"0\", \"Alone\":\"0\"})\n",
    "data[\"Marital_Status\"] = data[\"Marital_Status\"].astype('int64')\n",
    "data[\"Education\"]=data[\"Education\"].replace({\"Basic\":\"Undergraduate\",\"2n Cycle\":\"Undergraduate\", \"Graduation\":\"Graduate\", \"Master\":\"Postgraduate\", \"PhD\":\"Postgraduate\"})\n",
    "data=data.rename(columns={\"MntWines\": \"Wines\",\"MntFruits\":\"Fruits\",\"MntMeatProducts\":\"Meat\",\"MntFishProducts\":\"Fish\",\"MntSweetProducts\":\"Sweets\",\"MntGoldProds\":\"Gold\",\"NumDealsPurchases\": \"DealsPurch\", \"NumWebPurchases\": \"WebPurch\", \"NumCatalogPurchases\" : \"CatalogPurch\", \"NumStorePurchases\": \"StorePurch\", \"NumWebVisitsMonth\": \"WebVisits\"})\n",
    "to_drop = [\"Year_Birth\",\"Z_CostContact\", \"Z_Revenue\", \"AcceptedCmp1\", \"AcceptedCmp2\", \"AcceptedCmp3\", \"AcceptedCmp4\", \"AcceptedCmp5\", \"Complain\", \"Response\"]\n",
    "data = data.drop(to_drop, axis=1)"
   ]
  },
  {
   "cell_type": "markdown",
   "id": "155ed566-a991-44b8-ae60-afe18d81f953",
   "metadata": {},
   "source": [
    "Before we transformed the 'data' DataFrame, we had 28 columns with some columns that we would not precisely need to this process, so we rearranged it with the cell above and got\n",
    "the following info from the DataFrame. We created a column called <em>Age</em>, where we subtracted the year 2023 with the data[\"Year_Birth\"], created another column called <em>Spent</em>  by summing up expenditure columns (<em>MntWines</em>, <em>MntFruits</em>, <em>MntMeatProducts</em>, <em>MntFishProducts</em>, <em>MntSweetProducts</em>, <em>MntGoldProds</em>), representing the overall spent amount, replaced specific categories and converting them into integers (0 or 1) on the column <em>Marital_Status</em>, renamed some columns and eliminated some unwanted columns. With all these changes we got a better understanding of the contents, with a total of 22 columns"
   ]
  },
  {
   "cell_type": "code",
   "execution_count": 10,
   "id": "156c0ac1-ad2d-479d-87db-99e71946d9e5",
   "metadata": {
    "tags": []
   },
   "outputs": [
    {
     "name": "stdout",
     "output_type": "stream",
     "text": [
      "<class 'pandas.core.frame.DataFrame'>\n",
      "Index: 2216 entries, 0 to 2239\n",
      "Data columns (total 22 columns):\n",
      " #   Column          Non-Null Count  Dtype         \n",
      "---  ------          --------------  -----         \n",
      " 0   ID              2216 non-null   int64         \n",
      " 1   Education       2216 non-null   object        \n",
      " 2   Marital_Status  2216 non-null   int64         \n",
      " 3   Income          2216 non-null   float64       \n",
      " 4   Kidhome         2216 non-null   int64         \n",
      " 5   Teenhome        2216 non-null   int64         \n",
      " 6   Dt_Customer     2216 non-null   datetime64[ns]\n",
      " 7   Recency         2216 non-null   int64         \n",
      " 8   Wines           2216 non-null   int64         \n",
      " 9   Fruits          2216 non-null   int64         \n",
      " 10  Meat            2216 non-null   int64         \n",
      " 11  Fish            2216 non-null   int64         \n",
      " 12  Sweets          2216 non-null   int64         \n",
      " 13  Gold            2216 non-null   int64         \n",
      " 14  DealsPurch      2216 non-null   int64         \n",
      " 15  WebPurch        2216 non-null   int64         \n",
      " 16  CatalogPurch    2216 non-null   int64         \n",
      " 17  StorePurch      2216 non-null   int64         \n",
      " 18  WebVisits       2216 non-null   int64         \n",
      " 19  Age             2216 non-null   int64         \n",
      " 20  Kids            2216 non-null   int64         \n",
      " 21  Spent           2216 non-null   int64         \n",
      "dtypes: datetime64[ns](1), float64(1), int64(19), object(1)\n",
      "memory usage: 398.2+ KB\n"
     ]
    }
   ],
   "source": [
    "data.info()"
   ]
  },
  {
   "cell_type": "markdown",
   "id": "4c284b57-fb83-464b-84d5-43dc5fd40490",
   "metadata": {},
   "source": [
    "Here we generate descriptive statistics of the numerical columns in the DataFrame 'data', including count, mean, standard deviation, minimum, maximum and quartile values. This summary helps in understanding the distribution and characteristics of the numerical data"
   ]
  },
  {
   "cell_type": "code",
   "execution_count": 11,
   "id": "3e4d3e07-51ee-4b14-934e-97bce22363ec",
   "metadata": {
    "tags": []
   },
   "outputs": [
    {
     "data": {
      "text/html": [
       "<div>\n",
       "<style scoped>\n",
       "    .dataframe tbody tr th:only-of-type {\n",
       "        vertical-align: middle;\n",
       "    }\n",
       "\n",
       "    .dataframe tbody tr th {\n",
       "        vertical-align: top;\n",
       "    }\n",
       "\n",
       "    .dataframe thead th {\n",
       "        text-align: right;\n",
       "    }\n",
       "</style>\n",
       "<table border=\"1\" class=\"dataframe\">\n",
       "  <thead>\n",
       "    <tr style=\"text-align: right;\">\n",
       "      <th></th>\n",
       "      <th>ID</th>\n",
       "      <th>Marital_Status</th>\n",
       "      <th>Income</th>\n",
       "      <th>Kidhome</th>\n",
       "      <th>Teenhome</th>\n",
       "      <th>Dt_Customer</th>\n",
       "      <th>Recency</th>\n",
       "      <th>Wines</th>\n",
       "      <th>Fruits</th>\n",
       "      <th>Meat</th>\n",
       "      <th>...</th>\n",
       "      <th>Sweets</th>\n",
       "      <th>Gold</th>\n",
       "      <th>DealsPurch</th>\n",
       "      <th>WebPurch</th>\n",
       "      <th>CatalogPurch</th>\n",
       "      <th>StorePurch</th>\n",
       "      <th>WebVisits</th>\n",
       "      <th>Age</th>\n",
       "      <th>Kids</th>\n",
       "      <th>Spent</th>\n",
       "    </tr>\n",
       "  </thead>\n",
       "  <tbody>\n",
       "    <tr>\n",
       "      <th>count</th>\n",
       "      <td>2216.000000</td>\n",
       "      <td>2216.000000</td>\n",
       "      <td>2216.000000</td>\n",
       "      <td>2216.000000</td>\n",
       "      <td>2216.000000</td>\n",
       "      <td>2216</td>\n",
       "      <td>2216.000000</td>\n",
       "      <td>2216.000000</td>\n",
       "      <td>2216.000000</td>\n",
       "      <td>2216.000000</td>\n",
       "      <td>...</td>\n",
       "      <td>2216.000000</td>\n",
       "      <td>2216.000000</td>\n",
       "      <td>2216.000000</td>\n",
       "      <td>2216.000000</td>\n",
       "      <td>2216.000000</td>\n",
       "      <td>2216.000000</td>\n",
       "      <td>2216.000000</td>\n",
       "      <td>2216.000000</td>\n",
       "      <td>2216.000000</td>\n",
       "      <td>2216.000000</td>\n",
       "    </tr>\n",
       "    <tr>\n",
       "      <th>mean</th>\n",
       "      <td>5588.353339</td>\n",
       "      <td>0.645307</td>\n",
       "      <td>52247.251354</td>\n",
       "      <td>0.441787</td>\n",
       "      <td>0.505415</td>\n",
       "      <td>2013-07-10 11:29:27.509025280</td>\n",
       "      <td>49.012635</td>\n",
       "      <td>305.091606</td>\n",
       "      <td>26.356047</td>\n",
       "      <td>166.995939</td>\n",
       "      <td>...</td>\n",
       "      <td>27.028881</td>\n",
       "      <td>43.965253</td>\n",
       "      <td>2.323556</td>\n",
       "      <td>4.085289</td>\n",
       "      <td>2.671029</td>\n",
       "      <td>5.800993</td>\n",
       "      <td>5.319043</td>\n",
       "      <td>54.179603</td>\n",
       "      <td>0.947202</td>\n",
       "      <td>607.075361</td>\n",
       "    </tr>\n",
       "    <tr>\n",
       "      <th>min</th>\n",
       "      <td>0.000000</td>\n",
       "      <td>0.000000</td>\n",
       "      <td>1730.000000</td>\n",
       "      <td>0.000000</td>\n",
       "      <td>0.000000</td>\n",
       "      <td>2012-07-30 00:00:00</td>\n",
       "      <td>0.000000</td>\n",
       "      <td>0.000000</td>\n",
       "      <td>0.000000</td>\n",
       "      <td>0.000000</td>\n",
       "      <td>...</td>\n",
       "      <td>0.000000</td>\n",
       "      <td>0.000000</td>\n",
       "      <td>0.000000</td>\n",
       "      <td>0.000000</td>\n",
       "      <td>0.000000</td>\n",
       "      <td>0.000000</td>\n",
       "      <td>0.000000</td>\n",
       "      <td>27.000000</td>\n",
       "      <td>0.000000</td>\n",
       "      <td>5.000000</td>\n",
       "    </tr>\n",
       "    <tr>\n",
       "      <th>25%</th>\n",
       "      <td>2814.750000</td>\n",
       "      <td>0.000000</td>\n",
       "      <td>35303.000000</td>\n",
       "      <td>0.000000</td>\n",
       "      <td>0.000000</td>\n",
       "      <td>2013-01-16 00:00:00</td>\n",
       "      <td>24.000000</td>\n",
       "      <td>24.000000</td>\n",
       "      <td>2.000000</td>\n",
       "      <td>16.000000</td>\n",
       "      <td>...</td>\n",
       "      <td>1.000000</td>\n",
       "      <td>9.000000</td>\n",
       "      <td>1.000000</td>\n",
       "      <td>2.000000</td>\n",
       "      <td>0.000000</td>\n",
       "      <td>3.000000</td>\n",
       "      <td>3.000000</td>\n",
       "      <td>46.000000</td>\n",
       "      <td>0.000000</td>\n",
       "      <td>69.000000</td>\n",
       "    </tr>\n",
       "    <tr>\n",
       "      <th>50%</th>\n",
       "      <td>5458.500000</td>\n",
       "      <td>1.000000</td>\n",
       "      <td>51381.500000</td>\n",
       "      <td>0.000000</td>\n",
       "      <td>0.000000</td>\n",
       "      <td>2013-07-08 12:00:00</td>\n",
       "      <td>49.000000</td>\n",
       "      <td>174.500000</td>\n",
       "      <td>8.000000</td>\n",
       "      <td>68.000000</td>\n",
       "      <td>...</td>\n",
       "      <td>8.000000</td>\n",
       "      <td>24.500000</td>\n",
       "      <td>2.000000</td>\n",
       "      <td>4.000000</td>\n",
       "      <td>2.000000</td>\n",
       "      <td>5.000000</td>\n",
       "      <td>6.000000</td>\n",
       "      <td>53.000000</td>\n",
       "      <td>1.000000</td>\n",
       "      <td>396.500000</td>\n",
       "    </tr>\n",
       "    <tr>\n",
       "      <th>75%</th>\n",
       "      <td>8421.750000</td>\n",
       "      <td>1.000000</td>\n",
       "      <td>68522.000000</td>\n",
       "      <td>1.000000</td>\n",
       "      <td>1.000000</td>\n",
       "      <td>2013-12-31 00:00:00</td>\n",
       "      <td>74.000000</td>\n",
       "      <td>505.000000</td>\n",
       "      <td>33.000000</td>\n",
       "      <td>232.250000</td>\n",
       "      <td>...</td>\n",
       "      <td>33.000000</td>\n",
       "      <td>56.000000</td>\n",
       "      <td>3.000000</td>\n",
       "      <td>6.000000</td>\n",
       "      <td>4.000000</td>\n",
       "      <td>8.000000</td>\n",
       "      <td>7.000000</td>\n",
       "      <td>64.000000</td>\n",
       "      <td>1.000000</td>\n",
       "      <td>1048.000000</td>\n",
       "    </tr>\n",
       "    <tr>\n",
       "      <th>max</th>\n",
       "      <td>11191.000000</td>\n",
       "      <td>1.000000</td>\n",
       "      <td>666666.000000</td>\n",
       "      <td>2.000000</td>\n",
       "      <td>2.000000</td>\n",
       "      <td>2014-06-29 00:00:00</td>\n",
       "      <td>99.000000</td>\n",
       "      <td>1493.000000</td>\n",
       "      <td>199.000000</td>\n",
       "      <td>1725.000000</td>\n",
       "      <td>...</td>\n",
       "      <td>262.000000</td>\n",
       "      <td>321.000000</td>\n",
       "      <td>15.000000</td>\n",
       "      <td>27.000000</td>\n",
       "      <td>28.000000</td>\n",
       "      <td>13.000000</td>\n",
       "      <td>20.000000</td>\n",
       "      <td>130.000000</td>\n",
       "      <td>3.000000</td>\n",
       "      <td>2525.000000</td>\n",
       "    </tr>\n",
       "    <tr>\n",
       "      <th>std</th>\n",
       "      <td>3249.376275</td>\n",
       "      <td>0.478528</td>\n",
       "      <td>25173.076661</td>\n",
       "      <td>0.536896</td>\n",
       "      <td>0.544181</td>\n",
       "      <td>NaN</td>\n",
       "      <td>28.948352</td>\n",
       "      <td>337.327920</td>\n",
       "      <td>39.793917</td>\n",
       "      <td>224.283273</td>\n",
       "      <td>...</td>\n",
       "      <td>41.072046</td>\n",
       "      <td>51.815414</td>\n",
       "      <td>1.923716</td>\n",
       "      <td>2.740951</td>\n",
       "      <td>2.926734</td>\n",
       "      <td>3.250785</td>\n",
       "      <td>2.425359</td>\n",
       "      <td>11.985554</td>\n",
       "      <td>0.749062</td>\n",
       "      <td>602.900476</td>\n",
       "    </tr>\n",
       "  </tbody>\n",
       "</table>\n",
       "<p>8 rows × 21 columns</p>\n",
       "</div>"
      ],
      "text/plain": [
       "                 ID  Marital_Status         Income      Kidhome     Teenhome  \\\n",
       "count   2216.000000     2216.000000    2216.000000  2216.000000  2216.000000   \n",
       "mean    5588.353339        0.645307   52247.251354     0.441787     0.505415   \n",
       "min        0.000000        0.000000    1730.000000     0.000000     0.000000   \n",
       "25%     2814.750000        0.000000   35303.000000     0.000000     0.000000   \n",
       "50%     5458.500000        1.000000   51381.500000     0.000000     0.000000   \n",
       "75%     8421.750000        1.000000   68522.000000     1.000000     1.000000   \n",
       "max    11191.000000        1.000000  666666.000000     2.000000     2.000000   \n",
       "std     3249.376275        0.478528   25173.076661     0.536896     0.544181   \n",
       "\n",
       "                         Dt_Customer      Recency        Wines       Fruits  \\\n",
       "count                           2216  2216.000000  2216.000000  2216.000000   \n",
       "mean   2013-07-10 11:29:27.509025280    49.012635   305.091606    26.356047   \n",
       "min              2012-07-30 00:00:00     0.000000     0.000000     0.000000   \n",
       "25%              2013-01-16 00:00:00    24.000000    24.000000     2.000000   \n",
       "50%              2013-07-08 12:00:00    49.000000   174.500000     8.000000   \n",
       "75%              2013-12-31 00:00:00    74.000000   505.000000    33.000000   \n",
       "max              2014-06-29 00:00:00    99.000000  1493.000000   199.000000   \n",
       "std                              NaN    28.948352   337.327920    39.793917   \n",
       "\n",
       "              Meat  ...       Sweets         Gold   DealsPurch     WebPurch  \\\n",
       "count  2216.000000  ...  2216.000000  2216.000000  2216.000000  2216.000000   \n",
       "mean    166.995939  ...    27.028881    43.965253     2.323556     4.085289   \n",
       "min       0.000000  ...     0.000000     0.000000     0.000000     0.000000   \n",
       "25%      16.000000  ...     1.000000     9.000000     1.000000     2.000000   \n",
       "50%      68.000000  ...     8.000000    24.500000     2.000000     4.000000   \n",
       "75%     232.250000  ...    33.000000    56.000000     3.000000     6.000000   \n",
       "max    1725.000000  ...   262.000000   321.000000    15.000000    27.000000   \n",
       "std     224.283273  ...    41.072046    51.815414     1.923716     2.740951   \n",
       "\n",
       "       CatalogPurch   StorePurch    WebVisits          Age         Kids  \\\n",
       "count   2216.000000  2216.000000  2216.000000  2216.000000  2216.000000   \n",
       "mean       2.671029     5.800993     5.319043    54.179603     0.947202   \n",
       "min        0.000000     0.000000     0.000000    27.000000     0.000000   \n",
       "25%        0.000000     3.000000     3.000000    46.000000     0.000000   \n",
       "50%        2.000000     5.000000     6.000000    53.000000     1.000000   \n",
       "75%        4.000000     8.000000     7.000000    64.000000     1.000000   \n",
       "max       28.000000    13.000000    20.000000   130.000000     3.000000   \n",
       "std        2.926734     3.250785     2.425359    11.985554     0.749062   \n",
       "\n",
       "             Spent  \n",
       "count  2216.000000  \n",
       "mean    607.075361  \n",
       "min       5.000000  \n",
       "25%      69.000000  \n",
       "50%     396.500000  \n",
       "75%    1048.000000  \n",
       "max    2525.000000  \n",
       "std     602.900476  \n",
       "\n",
       "[8 rows x 21 columns]"
      ]
     },
     "execution_count": 11,
     "metadata": {},
     "output_type": "execute_result"
    }
   ],
   "source": [
    "data.describe()"
   ]
  },
  {
   "cell_type": "markdown",
   "id": "255d185c-4d17-4bb6-80fc-bc05341fb0db",
   "metadata": {},
   "source": [
    "---------------------------------------------"
   ]
  },
  {
   "cell_type": "markdown",
   "id": "6c735824-eeec-4940-b571-49264080c8ed",
   "metadata": {},
   "source": [
    "# Support Vector Classifier (SVC)"
   ]
  },
  {
   "cell_type": "markdown",
   "id": "0e453068-9a4d-4bb7-8f5b-185f80313179",
   "metadata": {},
   "source": [
    "The **Support Vector Classifier (SVC)** is a machine learning algorithm designed to find the optimal hyperplane for class separation. It excels in both linear and non-linear classification tasks, identifying critical support vectors to determine the decision boundary. However, the presented classification report indicates challenges for the SVC, particularly in achieving high precision and recall for both classes. This suggests potential areas for optimization or consideration of alternative algorithms."
   ]
  },
  {
   "cell_type": "code",
   "execution_count": 12,
   "id": "0f2b7549-0c83-4d65-8b9c-1d11d6dc9472",
   "metadata": {
    "tags": []
   },
   "outputs": [],
   "source": [
    "df_feat = data.drop(['Education', 'Dt_Customer', 'Marital_Status'], axis = 1)\n",
    "df_target = data['Marital_Status']"
   ]
  },
  {
   "cell_type": "code",
   "execution_count": 13,
   "id": "c5ce12a9-e942-405f-8e2b-30c5a6bddd4c",
   "metadata": {
    "tags": []
   },
   "outputs": [
    {
     "name": "stdout",
     "output_type": "stream",
     "text": [
      "Marital_Status\n",
      "1    1430\n",
      "0     786\n",
      "Name: count, dtype: int64\n"
     ]
    }
   ],
   "source": [
    "# Assuming 'Marital_Status' is your target variable\n",
    "class_distribution = df_target.value_counts()\n",
    "\n",
    "# Print the counts for each class\n",
    "print(class_distribution)"
   ]
  },
  {
   "cell_type": "code",
   "execution_count": 14,
   "id": "3dc2b350-ec72-4f19-95aa-c7944a5408cb",
   "metadata": {
    "tags": []
   },
   "outputs": [],
   "source": [
    "X_train, X_test, y_train, y_test = train_test_split(df_feat, df_target, test_size=0.50,random_state=2022)"
   ]
  },
  {
   "cell_type": "code",
   "execution_count": 15,
   "id": "0cccd30e-440a-4cf7-ae02-2e03e9dd50fa",
   "metadata": {
    "tags": []
   },
   "outputs": [
    {
     "data": {
      "text/plain": [
       "array([0.64414414, 0.64414414, 0.64414414, 0.64414414, 0.64414414,\n",
       "       0.64414414, 0.64705882, 0.64705882, 0.64705882, 0.64705882])"
      ]
     },
     "execution_count": 15,
     "metadata": {},
     "output_type": "execute_result"
    }
   ],
   "source": [
    "cross_valid_model = SVC(random_state=2022)\n",
    "scores = cross_val_score(cross_valid_model, df_feat, df_target, cv=10)\n",
    "scores"
   ]
  },
  {
   "cell_type": "code",
   "execution_count": 16,
   "id": "3c08b8be-2fac-445e-9c48-ca4abebc871b",
   "metadata": {
    "tags": []
   },
   "outputs": [
    {
     "name": "stdout",
     "output_type": "stream",
     "text": [
      "0.65 accuracy with a standard deviation of 0.00\n"
     ]
    }
   ],
   "source": [
    "print(\"%0.2f accuracy with a standard deviation of %0.2f\" % (scores.mean(), scores.std()))"
   ]
  },
  {
   "cell_type": "code",
   "execution_count": 17,
   "id": "8583e376-fc52-4986-8e1a-b0f96171898c",
   "metadata": {
    "tags": []
   },
   "outputs": [],
   "source": [
    "# Example with class_weight parameter\n",
    "svc_model = SVC(random_state=2023, class_weight='balanced')"
   ]
  },
  {
   "cell_type": "code",
   "execution_count": 18,
   "id": "80445f82-4305-4abb-ad87-6333c51fa00c",
   "metadata": {
    "tags": []
   },
   "outputs": [
    {
     "data": {
      "text/html": [
       "<style>#sk-container-id-1 {color: black;}#sk-container-id-1 pre{padding: 0;}#sk-container-id-1 div.sk-toggleable {background-color: white;}#sk-container-id-1 label.sk-toggleable__label {cursor: pointer;display: block;width: 100%;margin-bottom: 0;padding: 0.3em;box-sizing: border-box;text-align: center;}#sk-container-id-1 label.sk-toggleable__label-arrow:before {content: \"▸\";float: left;margin-right: 0.25em;color: #696969;}#sk-container-id-1 label.sk-toggleable__label-arrow:hover:before {color: black;}#sk-container-id-1 div.sk-estimator:hover label.sk-toggleable__label-arrow:before {color: black;}#sk-container-id-1 div.sk-toggleable__content {max-height: 0;max-width: 0;overflow: hidden;text-align: left;background-color: #f0f8ff;}#sk-container-id-1 div.sk-toggleable__content pre {margin: 0.2em;color: black;border-radius: 0.25em;background-color: #f0f8ff;}#sk-container-id-1 input.sk-toggleable__control:checked~div.sk-toggleable__content {max-height: 200px;max-width: 100%;overflow: auto;}#sk-container-id-1 input.sk-toggleable__control:checked~label.sk-toggleable__label-arrow:before {content: \"▾\";}#sk-container-id-1 div.sk-estimator input.sk-toggleable__control:checked~label.sk-toggleable__label {background-color: #d4ebff;}#sk-container-id-1 div.sk-label input.sk-toggleable__control:checked~label.sk-toggleable__label {background-color: #d4ebff;}#sk-container-id-1 input.sk-hidden--visually {border: 0;clip: rect(1px 1px 1px 1px);clip: rect(1px, 1px, 1px, 1px);height: 1px;margin: -1px;overflow: hidden;padding: 0;position: absolute;width: 1px;}#sk-container-id-1 div.sk-estimator {font-family: monospace;background-color: #f0f8ff;border: 1px dotted black;border-radius: 0.25em;box-sizing: border-box;margin-bottom: 0.5em;}#sk-container-id-1 div.sk-estimator:hover {background-color: #d4ebff;}#sk-container-id-1 div.sk-parallel-item::after {content: \"\";width: 100%;border-bottom: 1px solid gray;flex-grow: 1;}#sk-container-id-1 div.sk-label:hover label.sk-toggleable__label {background-color: #d4ebff;}#sk-container-id-1 div.sk-serial::before {content: \"\";position: absolute;border-left: 1px solid gray;box-sizing: border-box;top: 0;bottom: 0;left: 50%;z-index: 0;}#sk-container-id-1 div.sk-serial {display: flex;flex-direction: column;align-items: center;background-color: white;padding-right: 0.2em;padding-left: 0.2em;position: relative;}#sk-container-id-1 div.sk-item {position: relative;z-index: 1;}#sk-container-id-1 div.sk-parallel {display: flex;align-items: stretch;justify-content: center;background-color: white;position: relative;}#sk-container-id-1 div.sk-item::before, #sk-container-id-1 div.sk-parallel-item::before {content: \"\";position: absolute;border-left: 1px solid gray;box-sizing: border-box;top: 0;bottom: 0;left: 50%;z-index: -1;}#sk-container-id-1 div.sk-parallel-item {display: flex;flex-direction: column;z-index: 1;position: relative;background-color: white;}#sk-container-id-1 div.sk-parallel-item:first-child::after {align-self: flex-end;width: 50%;}#sk-container-id-1 div.sk-parallel-item:last-child::after {align-self: flex-start;width: 50%;}#sk-container-id-1 div.sk-parallel-item:only-child::after {width: 0;}#sk-container-id-1 div.sk-dashed-wrapped {border: 1px dashed gray;margin: 0 0.4em 0.5em 0.4em;box-sizing: border-box;padding-bottom: 0.4em;background-color: white;}#sk-container-id-1 div.sk-label label {font-family: monospace;font-weight: bold;display: inline-block;line-height: 1.2em;}#sk-container-id-1 div.sk-label-container {text-align: center;}#sk-container-id-1 div.sk-container {/* jupyter's `normalize.less` sets `[hidden] { display: none; }` but bootstrap.min.css set `[hidden] { display: none !important; }` so we also need the `!important` here to be able to override the default hidden behavior on the sphinx rendered scikit-learn.org. See: https://github.com/scikit-learn/scikit-learn/issues/21755 */display: inline-block !important;position: relative;}#sk-container-id-1 div.sk-text-repr-fallback {display: none;}</style><div id=\"sk-container-id-1\" class=\"sk-top-container\"><div class=\"sk-text-repr-fallback\"><pre>SVC(class_weight=&#x27;balanced&#x27;, random_state=2023)</pre><b>In a Jupyter environment, please rerun this cell to show the HTML representation or trust the notebook. <br />On GitHub, the HTML representation is unable to render, please try loading this page with nbviewer.org.</b></div><div class=\"sk-container\" hidden><div class=\"sk-item\"><div class=\"sk-estimator sk-toggleable\"><input class=\"sk-toggleable__control sk-hidden--visually\" id=\"sk-estimator-id-1\" type=\"checkbox\" checked><label for=\"sk-estimator-id-1\" class=\"sk-toggleable__label sk-toggleable__label-arrow\">SVC</label><div class=\"sk-toggleable__content\"><pre>SVC(class_weight=&#x27;balanced&#x27;, random_state=2023)</pre></div></div></div></div></div>"
      ],
      "text/plain": [
       "SVC(class_weight='balanced', random_state=2023)"
      ]
     },
     "execution_count": 18,
     "metadata": {},
     "output_type": "execute_result"
    }
   ],
   "source": [
    "svc_model.fit(X_train,y_train)"
   ]
  },
  {
   "cell_type": "code",
   "execution_count": 19,
   "id": "b83f2587-63ad-4c14-a340-b02af2d4fe2b",
   "metadata": {
    "tags": []
   },
   "outputs": [
    {
     "data": {
      "text/plain": [
       "array([0, 1, 0, ..., 0, 1, 1], dtype=int64)"
      ]
     },
     "execution_count": 19,
     "metadata": {},
     "output_type": "execute_result"
    }
   ],
   "source": [
    "svc_predictions = svc_model.predict(X_test)\n",
    "svc_predictions"
   ]
  },
  {
   "cell_type": "code",
   "execution_count": 20,
   "id": "45dc2877-e448-43f1-905b-646768e72e98",
   "metadata": {
    "tags": []
   },
   "outputs": [
    {
     "name": "stdout",
     "output_type": "stream",
     "text": [
      "0.51 accuracy\n"
     ]
    }
   ],
   "source": [
    "print(\"%0.2f accuracy\" % (accuracy_score(y_test, svc_predictions)))"
   ]
  },
  {
   "cell_type": "code",
   "execution_count": 21,
   "id": "c06b1b25-1b1a-49e8-9131-17ee082ad2cb",
   "metadata": {
    "tags": []
   },
   "outputs": [
    {
     "name": "stdout",
     "output_type": "stream",
     "text": [
      "Classification Report:\n",
      "              precision    recall  f1-score   support\n",
      "\n",
      "           0       0.32      0.37      0.34       380\n",
      "           1       0.64      0.59      0.61       728\n",
      "\n",
      "    accuracy                           0.51      1108\n",
      "   macro avg       0.48      0.48      0.48      1108\n",
      "weighted avg       0.53      0.51      0.52      1108\n",
      "\n"
     ]
    }
   ],
   "source": [
    "print(\"Classification Report:\")\n",
    "print(classification_report(y_test,svc_predictions))"
   ]
  },
  {
   "cell_type": "code",
   "execution_count": 22,
   "id": "2d3a6d08-7968-4124-8485-8d4d0a48b368",
   "metadata": {
    "tags": []
   },
   "outputs": [
    {
     "data": {
      "image/png": "[encoded data removed]",
      "text/plain": [
       "<Figure size 640x480 with 2 Axes>"
      ]
     },
     "metadata": {},
     "output_type": "display_data"
    }
   ],
   "source": [
    "ConfusionMatrixDisplay.from_predictions(y_test,svc_predictions)\n",
    "plt.show()"
   ]
  },
  {
   "cell_type": "markdown",
   "id": "e4163167-423c-4ac5-b028-ad0f6936af79",
   "metadata": {},
   "source": [
    "Precision and Recall for Class 0:\n",
    "- **Precision** (the proportion of true positives among all predicted positives) for class 0 is relatively low (0.32), suggesting that when the model predicts instances as class 0, it is correct about 32% of the time.\n",
    "- **Recall** (the proportion of true positives identified among all actual positives) for class 0 is also relatively low (0.37), indicating that the model is capturing only 37% of the actual instances of class 0.\n",
    "\n",
    "Precision and Recall for Class 1:\n",
    "- **Precision** for class 1 is higher (0.64), indicating that when the model predicts instances as class 1, it is correct about 64% of the time.\n",
    "- **Recall** for class 1 is also relatively high (0.59), suggesting that the model is capturing about 59% of the actual instances of class 1."
   ]
  },
  {
   "cell_type": "markdown",
   "id": "eab901f2-94e0-402a-a07a-e42cffee7551",
   "metadata": {},
   "source": [
    "---------------------------------------------------"
   ]
  },
  {
   "cell_type": "markdown",
   "id": "58eba1cc-537e-4ae3-b580-0a4c4d90fd78",
   "metadata": {},
   "source": [
    "# GridSearch with Random Forest Classifier"
   ]
  },
  {
   "cell_type": "markdown",
   "id": "757237cf-f9a1-4113-b7a6-71b35898a9fa",
   "metadata": {
    "tags": []
   },
   "source": [
    "**GridSearch with Random Forest Classifier** involves using <u>GridSearchCV</u>, a hyperparameter tuning technique, to find the best hyperparameters for the Random Forest Classifier model. Random Forest is an ensemble learning method that builds multiple decision trees during training and outputs the mode of the classes for predictions. In the provided classification report, the Random Forest Classifier tuned through GridSearch demonstrates significant improvements over the standalone SVC. It achieves a better balance between precision and recall for both classes, highlighting the effectiveness of systematic hyperparameter tuning in enhancing model performance."
   ]
  },
  {
   "cell_type": "code",
   "execution_count": 23,
   "id": "c33b1d4a-8c7b-4094-a877-ffeac1c434ee",
   "metadata": {
    "tags": []
   },
   "outputs": [],
   "source": [
    "X_train, X_test, y_train, y_test = train_test_split(df_feat, df_target, test_size=0.25, random_state=2023)"
   ]
  },
  {
   "cell_type": "code",
   "execution_count": 24,
   "id": "04cc406c-4ebe-4dd5-a72d-892a5cac2bf9",
   "metadata": {
    "tags": []
   },
   "outputs": [],
   "source": [
    "gs_model = RandomForestClassifier(class_weight='balanced', random_state=2023)"
   ]
  },
  {
   "cell_type": "code",
   "execution_count": 25,
   "id": "0ac76d9a-a489-4ebf-9f4f-22b83e05469a",
   "metadata": {
    "tags": []
   },
   "outputs": [
    {
     "data": {
      "text/html": [
       "<style>#sk-container-id-2 {color: black;}#sk-container-id-2 pre{padding: 0;}#sk-container-id-2 div.sk-toggleable {background-color: white;}#sk-container-id-2 label.sk-toggleable__label {cursor: pointer;display: block;width: 100%;margin-bottom: 0;padding: 0.3em;box-sizing: border-box;text-align: center;}#sk-container-id-2 label.sk-toggleable__label-arrow:before {content: \"▸\";float: left;margin-right: 0.25em;color: #696969;}#sk-container-id-2 label.sk-toggleable__label-arrow:hover:before {color: black;}#sk-container-id-2 div.sk-estimator:hover label.sk-toggleable__label-arrow:before {color: black;}#sk-container-id-2 div.sk-toggleable__content {max-height: 0;max-width: 0;overflow: hidden;text-align: left;background-color: #f0f8ff;}#sk-container-id-2 div.sk-toggleable__content pre {margin: 0.2em;color: black;border-radius: 0.25em;background-color: #f0f8ff;}#sk-container-id-2 input.sk-toggleable__control:checked~div.sk-toggleable__content {max-height: 200px;max-width: 100%;overflow: auto;}#sk-container-id-2 input.sk-toggleable__control:checked~label.sk-toggleable__label-arrow:before {content: \"▾\";}#sk-container-id-2 div.sk-estimator input.sk-toggleable__control:checked~label.sk-toggleable__label {background-color: #d4ebff;}#sk-container-id-2 div.sk-label input.sk-toggleable__control:checked~label.sk-toggleable__label {background-color: #d4ebff;}#sk-container-id-2 input.sk-hidden--visually {border: 0;clip: rect(1px 1px 1px 1px);clip: rect(1px, 1px, 1px, 1px);height: 1px;margin: -1px;overflow: hidden;padding: 0;position: absolute;width: 1px;}#sk-container-id-2 div.sk-estimator {font-family: monospace;background-color: #f0f8ff;border: 1px dotted black;border-radius: 0.25em;box-sizing: border-box;margin-bottom: 0.5em;}#sk-container-id-2 div.sk-estimator:hover {background-color: #d4ebff;}#sk-container-id-2 div.sk-parallel-item::after {content: \"\";width: 100%;border-bottom: 1px solid gray;flex-grow: 1;}#sk-container-id-2 div.sk-label:hover label.sk-toggleable__label {background-color: #d4ebff;}#sk-container-id-2 div.sk-serial::before {content: \"\";position: absolute;border-left: 1px solid gray;box-sizing: border-box;top: 0;bottom: 0;left: 50%;z-index: 0;}#sk-container-id-2 div.sk-serial {display: flex;flex-direction: column;align-items: center;background-color: white;padding-right: 0.2em;padding-left: 0.2em;position: relative;}#sk-container-id-2 div.sk-item {position: relative;z-index: 1;}#sk-container-id-2 div.sk-parallel {display: flex;align-items: stretch;justify-content: center;background-color: white;position: relative;}#sk-container-id-2 div.sk-item::before, #sk-container-id-2 div.sk-parallel-item::before {content: \"\";position: absolute;border-left: 1px solid gray;box-sizing: border-box;top: 0;bottom: 0;left: 50%;z-index: -1;}#sk-container-id-2 div.sk-parallel-item {display: flex;flex-direction: column;z-index: 1;position: relative;background-color: white;}#sk-container-id-2 div.sk-parallel-item:first-child::after {align-self: flex-end;width: 50%;}#sk-container-id-2 div.sk-parallel-item:last-child::after {align-self: flex-start;width: 50%;}#sk-container-id-2 div.sk-parallel-item:only-child::after {width: 0;}#sk-container-id-2 div.sk-dashed-wrapped {border: 1px dashed gray;margin: 0 0.4em 0.5em 0.4em;box-sizing: border-box;padding-bottom: 0.4em;background-color: white;}#sk-container-id-2 div.sk-label label {font-family: monospace;font-weight: bold;display: inline-block;line-height: 1.2em;}#sk-container-id-2 div.sk-label-container {text-align: center;}#sk-container-id-2 div.sk-container {/* jupyter's `normalize.less` sets `[hidden] { display: none; }` but bootstrap.min.css set `[hidden] { display: none !important; }` so we also need the `!important` here to be able to override the default hidden behavior on the sphinx rendered scikit-learn.org. See: https://github.com/scikit-learn/scikit-learn/issues/21755 */display: inline-block !important;position: relative;}#sk-container-id-2 div.sk-text-repr-fallback {display: none;}</style><div id=\"sk-container-id-2\" class=\"sk-top-container\"><div class=\"sk-text-repr-fallback\"><pre>RandomForestClassifier(class_weight=&#x27;balanced&#x27;, random_state=2023)</pre><b>In a Jupyter environment, please rerun this cell to show the HTML representation or trust the notebook. <br />On GitHub, the HTML representation is unable to render, please try loading this page with nbviewer.org.</b></div><div class=\"sk-container\" hidden><div class=\"sk-item\"><div class=\"sk-estimator sk-toggleable\"><input class=\"sk-toggleable__control sk-hidden--visually\" id=\"sk-estimator-id-2\" type=\"checkbox\" checked><label for=\"sk-estimator-id-2\" class=\"sk-toggleable__label sk-toggleable__label-arrow\">RandomForestClassifier</label><div class=\"sk-toggleable__content\"><pre>RandomForestClassifier(class_weight=&#x27;balanced&#x27;, random_state=2023)</pre></div></div></div></div></div>"
      ],
      "text/plain": [
       "RandomForestClassifier(class_weight='balanced', random_state=2023)"
      ]
     },
     "execution_count": 25,
     "metadata": {},
     "output_type": "execute_result"
    }
   ],
   "source": [
    "gs_model.fit(X_train, y_train)"
   ]
  },
  {
   "cell_type": "code",
   "execution_count": 26,
   "id": "394a727f-08bc-45a0-9c29-9f8e477fa95e",
   "metadata": {
    "tags": []
   },
   "outputs": [],
   "source": [
    "gs_predictions = gs_model.predict(X_test)"
   ]
  },
  {
   "cell_type": "code",
   "execution_count": 27,
   "id": "68038f63-7850-4eb2-9198-24923d48ed84",
   "metadata": {
    "tags": []
   },
   "outputs": [
    {
     "name": "stdout",
     "output_type": "stream",
     "text": [
      "Classification Report:\n",
      "              precision    recall  f1-score   support\n",
      "\n",
      "           0       0.62      0.15      0.25       202\n",
      "           1       0.66      0.95      0.78       352\n",
      "\n",
      "    accuracy                           0.66       554\n",
      "   macro avg       0.64      0.55      0.51       554\n",
      "weighted avg       0.65      0.66      0.58       554\n",
      "\n"
     ]
    }
   ],
   "source": [
    "print(\"Classification Report:\")\n",
    "print(classification_report(y_test, gs_predictions))"
   ]
  },
  {
   "cell_type": "code",
   "execution_count": 28,
   "id": "ec536023-7bd3-4c0d-85d5-ed6e1cb4113e",
   "metadata": {
    "tags": []
   },
   "outputs": [
    {
     "data": {
      "image/png": "[encoded data removed]",
      "text/plain": [
       "<Figure size 640x480 with 2 Axes>"
      ]
     },
     "metadata": {},
     "output_type": "display_data"
    }
   ],
   "source": [
    "ConfusionMatrixDisplay.from_estimator(gs_model, X_test, y_test, display_labels=df_target.unique())\n",
    "plt.show()"
   ]
  },
  {
   "cell_type": "markdown",
   "id": "0961614c-3ee8-409c-ad3c-7c6465a457ca",
   "metadata": {
    "tags": []
   },
   "source": [
    "Precision and Recall for Class 0:\n",
    "- **Precision** (the proportion of true positives among all predicted positives) for class 0 is medium (0.62), suggesting that when the model predicts instances as class 0, it is correct about 62% of the time.\n",
    "- **Recall** (the proportion of true positives identified among all actual positives) for class 0 is low (0.15), indicating that the model is capturing only 15% of the actual instances of class 0.\n",
    "\n",
    "Precision and Recall for Class 1:\n",
    "- **Precision** for class 1 is relatively higher (0.66), indicating that when the model predicts instances as class 1, it is correct about 66% of the time.\n",
    "- **Recall** for class 1 is also high (0.95), suggesting that the model is capturing about 95% of the actual instances of class 1."
   ]
  },
  {
   "cell_type": "markdown",
   "id": "19e679da-9215-4cc7-bcf6-95f29137f49a",
   "metadata": {},
   "source": [
    "-------------------------"
   ]
  },
  {
   "cell_type": "markdown",
   "id": "c50f79d3-38ed-43cd-930d-afab7c1e53da",
   "metadata": {},
   "source": [
    "# Conclusion"
   ]
  },
  {
   "cell_type": "markdown",
   "id": "695d542b-e99c-4a3a-af84-c9a1032a97a2",
   "metadata": {},
   "source": [
    "The **GridSearch with Random Forest Classifier** appears to be a more effective model for this classification task, providing a better balance between <u>precision</u> and <u>recall</u>, especially when dealing with imbalanced classes. Further tuning and optimization could potentially enhance the performance of either model."
   ]
  },
  {
   "cell_type": "code",
   "execution_count": null,
   "id": "216ec09d-1989-4cee-bc39-c14bf898ec1c",
   "metadata": {},
   "outputs": [],
   "source": []
  }
 ],
 "metadata": {
  "kernelspec": {
   "display_name": "Python 3 (ipykernel)",
   "language": "python",
   "name": "python3"
  },
  "language_info": {
   "codemirror_mode": {
    "name": "ipython",
    "version": 3
   },
   "file_extension": ".py",
   "mimetype": "text/x-python",
   "name": "python",
   "nbconvert_exporter": "python",
   "pygments_lexer": "ipython3",
   "version": "3.11.4"
  }
 },
 "nbformat": 4,
 "nbformat_minor": 5
}
