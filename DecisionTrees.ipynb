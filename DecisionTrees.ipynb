{
 "cells": [
  {
   "cell_type": "markdown",
   "id": "58d23186-60d1-4eef-a837-00f68ef41bbc",
   "metadata": {},
   "source": [
    "# Decision Trees"
   ]
  },
  {
   "cell_type": "markdown",
   "id": "9f27ad96-0664-4eee-bfbf-3c8ac02653cf",
   "metadata": {},
   "source": [
    "## Import Libraries "
   ]
  },
  {
   "cell_type": "code",
   "execution_count": 46,
   "id": "4bd68862-73ac-4c7b-886a-59ff7d9e5827",
   "metadata": {
    "tags": []
   },
   "outputs": [],
   "source": [
    "import os\n",
    "import pandas as pd\n",
    "import numpy as np\n",
    "import datetime\n",
    "import seaborn as sns\n",
    "import matplotlib.pyplot as plt\n",
    "%matplotlib inline\n",
    "import plotly.express as px\n",
    "import plotly.graph_objects as go\n",
    "import matplotlib.dates as mdates\n",
    "from sklearn.model_selection import train_test_split\n",
    "from sklearn.tree import DecisionTreeClassifier\n",
    "from sklearn.tree import DecisionTreeRegressor\n",
    "from sklearn import metrics\n",
    "from sklearn.metrics import confusion_matrix\n",
    "from sklearn.metrics import recall_score\n",
    "from sklearn.metrics import accuracy_score\n",
    "from sklearn.metrics import precision_score\n",
    "from sklearn.metrics import roc_auc_score\n",
    "from sklearn.metrics import roc_curve\n",
    "from sklearn.metrics import f1_score\n",
    "from sklearn.metrics import fbeta_score\n",
    "from sklearn.metrics import mean_absolute_error\n",
    "from sklearn.metrics import mean_squared_error\n",
    "from sklearn.metrics import r2_score\n",
    "from sklearn.model_selection import cross_val_score\n",
    "xformatter = mdates.DateFormatter('%H:%M') # for time axis plots\n",
    "\n",
    "# import plotly.offline as py\n",
    "# py.init_notebook_mode(connected=True)\n",
    "# teste\n",
    "\n",
    "import sklearn\n",
    "from scipy.optimize import curve_fit\n",
    "\n",
    "import warnings\n",
    "warnings.filterwarnings('ignore')"
   ]
  },
  {
   "cell_type": "markdown",
   "id": "ce2ce204-3079-41a1-84ea-872a5b9d63c4",
   "metadata": {},
   "source": [
    "## Get and show the Data"
   ]
  },
  {
   "cell_type": "code",
   "execution_count": 47,
   "id": "9b07a3d3-5967-48aa-940a-53a9f39b4f2e",
   "metadata": {
    "tags": []
   },
   "outputs": [],
   "source": [
    "data = pd.read_csv('marketing_campaign.csv', sep=\"\\t\")"
   ]
  },
  {
   "cell_type": "markdown",
   "id": "0813d8ac-9e14-41af-9bca-c93724ce352b",
   "metadata": {},
   "source": [
    "Retrieve the column labels from the dataset."
   ]
  },
  {
   "cell_type": "code",
   "execution_count": 48,
   "id": "640d1df7-8417-48ab-880e-5a1fe1a846ff",
   "metadata": {
    "tags": []
   },
   "outputs": [
    {
     "data": {
      "text/plain": [
       "Index(['ID', 'Year_Birth', 'Education', 'Marital_Status', 'Income', 'Kidhome',\n",
       "       'Teenhome', 'Dt_Customer', 'Recency', 'MntWines', 'MntFruits',\n",
       "       'MntMeatProducts', 'MntFishProducts', 'MntSweetProducts',\n",
       "       'MntGoldProds', 'NumDealsPurchases', 'NumWebPurchases',\n",
       "       'NumCatalogPurchases', 'NumStorePurchases', 'NumWebVisitsMonth',\n",
       "       'AcceptedCmp3', 'AcceptedCmp4', 'AcceptedCmp5', 'AcceptedCmp1',\n",
       "       'AcceptedCmp2', 'Complain', 'Z_CostContact', 'Z_Revenue', 'Response'],\n",
       "      dtype='object')"
      ]
     },
     "execution_count": 48,
     "metadata": {},
     "output_type": "execute_result"
    }
   ],
   "source": [
    "data.columns"
   ]
  },
  {
   "cell_type": "markdown",
   "id": "bb7b397c-9939-42c2-9e54-3fcc9c98d224",
   "metadata": {},
   "source": [
    "Revealing Structure, Data Types, non-null counts, and memory usage."
   ]
  },
  {
   "cell_type": "code",
   "execution_count": 49,
   "id": "bd8a405f-43d9-4ed5-9032-88e3b4922b7f",
   "metadata": {
    "tags": []
   },
   "outputs": [
    {
     "name": "stdout",
     "output_type": "stream",
     "text": [
      "<class 'pandas.core.frame.DataFrame'>\n",
      "RangeIndex: 2240 entries, 0 to 2239\n",
      "Data columns (total 29 columns):\n",
      " #   Column               Non-Null Count  Dtype  \n",
      "---  ------               --------------  -----  \n",
      " 0   ID                   2240 non-null   int64  \n",
      " 1   Year_Birth           2240 non-null   int64  \n",
      " 2   Education            2240 non-null   object \n",
      " 3   Marital_Status       2240 non-null   object \n",
      " 4   Income               2216 non-null   float64\n",
      " 5   Kidhome              2240 non-null   int64  \n",
      " 6   Teenhome             2240 non-null   int64  \n",
      " 7   Dt_Customer          2240 non-null   object \n",
      " 8   Recency              2240 non-null   int64  \n",
      " 9   MntWines             2240 non-null   int64  \n",
      " 10  MntFruits            2240 non-null   int64  \n",
      " 11  MntMeatProducts      2240 non-null   int64  \n",
      " 12  MntFishProducts      2240 non-null   int64  \n",
      " 13  MntSweetProducts     2240 non-null   int64  \n",
      " 14  MntGoldProds         2240 non-null   int64  \n",
      " 15  NumDealsPurchases    2240 non-null   int64  \n",
      " 16  NumWebPurchases      2240 non-null   int64  \n",
      " 17  NumCatalogPurchases  2240 non-null   int64  \n",
      " 18  NumStorePurchases    2240 non-null   int64  \n",
      " 19  NumWebVisitsMonth    2240 non-null   int64  \n",
      " 20  AcceptedCmp3         2240 non-null   int64  \n",
      " 21  AcceptedCmp4         2240 non-null   int64  \n",
      " 22  AcceptedCmp5         2240 non-null   int64  \n",
      " 23  AcceptedCmp1         2240 non-null   int64  \n",
      " 24  AcceptedCmp2         2240 non-null   int64  \n",
      " 25  Complain             2240 non-null   int64  \n",
      " 26  Z_CostContact        2240 non-null   int64  \n",
      " 27  Z_Revenue            2240 non-null   int64  \n",
      " 28  Response             2240 non-null   int64  \n",
      "dtypes: float64(1), int64(25), object(3)\n",
      "memory usage: 507.6+ KB\n"
     ]
    }
   ],
   "source": [
    "data.info()"
   ]
  },
  {
   "cell_type": "markdown",
   "id": "b3eb8fe7-d538-4125-98ba-644e8e8ab301",
   "metadata": {},
   "source": [
    "Method for counting unique values in each column"
   ]
  },
  {
   "cell_type": "code",
   "execution_count": 50,
   "id": "61851ca3-a8a0-448c-9acb-8de80854975d",
   "metadata": {
    "tags": []
   },
   "outputs": [
    {
     "data": {
      "text/plain": [
       "ID                     2240\n",
       "Year_Birth               59\n",
       "Education                 5\n",
       "Marital_Status            8\n",
       "Income                 1974\n",
       "Kidhome                   3\n",
       "Teenhome                  3\n",
       "Dt_Customer             663\n",
       "Recency                 100\n",
       "MntWines                776\n",
       "MntFruits               158\n",
       "MntMeatProducts         558\n",
       "MntFishProducts         182\n",
       "MntSweetProducts        177\n",
       "MntGoldProds            213\n",
       "NumDealsPurchases        15\n",
       "NumWebPurchases          15\n",
       "NumCatalogPurchases      14\n",
       "NumStorePurchases        14\n",
       "NumWebVisitsMonth        16\n",
       "AcceptedCmp3              2\n",
       "AcceptedCmp4              2\n",
       "AcceptedCmp5              2\n",
       "AcceptedCmp1              2\n",
       "AcceptedCmp2              2\n",
       "Complain                  2\n",
       "Z_CostContact             1\n",
       "Z_Revenue                 1\n",
       "Response                  2\n",
       "dtype: int64"
      ]
     },
     "execution_count": 50,
     "metadata": {},
     "output_type": "execute_result"
    }
   ],
   "source": [
    "data.nunique()"
   ]
  },
  {
   "cell_type": "markdown",
   "id": "b5fa85ae-759a-4bd3-8188-74dc64d884c5",
   "metadata": {},
   "source": [
    "## Data Transformation"
   ]
  },
  {
   "cell_type": "markdown",
   "id": "909efe1b-21a0-4db4-834e-8c3f8de75a51",
   "metadata": {},
   "source": [
    "Eliminating Columns: removing the <em>Z_CostContact</em> and <em>Z_Revenue<em/> columns from the DataFrame"
   ]
  },
  {
   "cell_type": "code",
   "execution_count": 51,
   "id": "515890f5-d3bb-4a21-abbd-763086da1f19",
   "metadata": {
    "tags": []
   },
   "outputs": [
    {
     "data": {
      "text/html": [
       "<div>\n",
       "<style scoped>\n",
       "    .dataframe tbody tr th:only-of-type {\n",
       "        vertical-align: middle;\n",
       "    }\n",
       "\n",
       "    .dataframe tbody tr th {\n",
       "        vertical-align: top;\n",
       "    }\n",
       "\n",
       "    .dataframe thead th {\n",
       "        text-align: right;\n",
       "    }\n",
       "</style>\n",
       "<table border=\"1\" class=\"dataframe\">\n",
       "  <thead>\n",
       "    <tr style=\"text-align: right;\">\n",
       "      <th></th>\n",
       "      <th>ID</th>\n",
       "      <th>Year_Birth</th>\n",
       "      <th>Education</th>\n",
       "      <th>Marital_Status</th>\n",
       "      <th>Income</th>\n",
       "      <th>Kidhome</th>\n",
       "      <th>Teenhome</th>\n",
       "      <th>Dt_Customer</th>\n",
       "      <th>Recency</th>\n",
       "      <th>MntWines</th>\n",
       "      <th>...</th>\n",
       "      <th>NumCatalogPurchases</th>\n",
       "      <th>NumStorePurchases</th>\n",
       "      <th>NumWebVisitsMonth</th>\n",
       "      <th>AcceptedCmp3</th>\n",
       "      <th>AcceptedCmp4</th>\n",
       "      <th>AcceptedCmp5</th>\n",
       "      <th>AcceptedCmp1</th>\n",
       "      <th>AcceptedCmp2</th>\n",
       "      <th>Complain</th>\n",
       "      <th>Response</th>\n",
       "    </tr>\n",
       "  </thead>\n",
       "  <tbody>\n",
       "    <tr>\n",
       "      <th>0</th>\n",
       "      <td>5524</td>\n",
       "      <td>1957</td>\n",
       "      <td>Graduation</td>\n",
       "      <td>Single</td>\n",
       "      <td>58138.0</td>\n",
       "      <td>0</td>\n",
       "      <td>0</td>\n",
       "      <td>04-09-2012</td>\n",
       "      <td>58</td>\n",
       "      <td>635</td>\n",
       "      <td>...</td>\n",
       "      <td>10</td>\n",
       "      <td>4</td>\n",
       "      <td>7</td>\n",
       "      <td>0</td>\n",
       "      <td>0</td>\n",
       "      <td>0</td>\n",
       "      <td>0</td>\n",
       "      <td>0</td>\n",
       "      <td>0</td>\n",
       "      <td>1</td>\n",
       "    </tr>\n",
       "    <tr>\n",
       "      <th>1</th>\n",
       "      <td>2174</td>\n",
       "      <td>1954</td>\n",
       "      <td>Graduation</td>\n",
       "      <td>Single</td>\n",
       "      <td>46344.0</td>\n",
       "      <td>1</td>\n",
       "      <td>1</td>\n",
       "      <td>08-03-2014</td>\n",
       "      <td>38</td>\n",
       "      <td>11</td>\n",
       "      <td>...</td>\n",
       "      <td>1</td>\n",
       "      <td>2</td>\n",
       "      <td>5</td>\n",
       "      <td>0</td>\n",
       "      <td>0</td>\n",
       "      <td>0</td>\n",
       "      <td>0</td>\n",
       "      <td>0</td>\n",
       "      <td>0</td>\n",
       "      <td>0</td>\n",
       "    </tr>\n",
       "    <tr>\n",
       "      <th>2</th>\n",
       "      <td>4141</td>\n",
       "      <td>1965</td>\n",
       "      <td>Graduation</td>\n",
       "      <td>Together</td>\n",
       "      <td>71613.0</td>\n",
       "      <td>0</td>\n",
       "      <td>0</td>\n",
       "      <td>21-08-2013</td>\n",
       "      <td>26</td>\n",
       "      <td>426</td>\n",
       "      <td>...</td>\n",
       "      <td>2</td>\n",
       "      <td>10</td>\n",
       "      <td>4</td>\n",
       "      <td>0</td>\n",
       "      <td>0</td>\n",
       "      <td>0</td>\n",
       "      <td>0</td>\n",
       "      <td>0</td>\n",
       "      <td>0</td>\n",
       "      <td>0</td>\n",
       "    </tr>\n",
       "    <tr>\n",
       "      <th>3</th>\n",
       "      <td>6182</td>\n",
       "      <td>1984</td>\n",
       "      <td>Graduation</td>\n",
       "      <td>Together</td>\n",
       "      <td>26646.0</td>\n",
       "      <td>1</td>\n",
       "      <td>0</td>\n",
       "      <td>10-02-2014</td>\n",
       "      <td>26</td>\n",
       "      <td>11</td>\n",
       "      <td>...</td>\n",
       "      <td>0</td>\n",
       "      <td>4</td>\n",
       "      <td>6</td>\n",
       "      <td>0</td>\n",
       "      <td>0</td>\n",
       "      <td>0</td>\n",
       "      <td>0</td>\n",
       "      <td>0</td>\n",
       "      <td>0</td>\n",
       "      <td>0</td>\n",
       "    </tr>\n",
       "    <tr>\n",
       "      <th>4</th>\n",
       "      <td>5324</td>\n",
       "      <td>1981</td>\n",
       "      <td>PhD</td>\n",
       "      <td>Married</td>\n",
       "      <td>58293.0</td>\n",
       "      <td>1</td>\n",
       "      <td>0</td>\n",
       "      <td>19-01-2014</td>\n",
       "      <td>94</td>\n",
       "      <td>173</td>\n",
       "      <td>...</td>\n",
       "      <td>3</td>\n",
       "      <td>6</td>\n",
       "      <td>5</td>\n",
       "      <td>0</td>\n",
       "      <td>0</td>\n",
       "      <td>0</td>\n",
       "      <td>0</td>\n",
       "      <td>0</td>\n",
       "      <td>0</td>\n",
       "      <td>0</td>\n",
       "    </tr>\n",
       "    <tr>\n",
       "      <th>...</th>\n",
       "      <td>...</td>\n",
       "      <td>...</td>\n",
       "      <td>...</td>\n",
       "      <td>...</td>\n",
       "      <td>...</td>\n",
       "      <td>...</td>\n",
       "      <td>...</td>\n",
       "      <td>...</td>\n",
       "      <td>...</td>\n",
       "      <td>...</td>\n",
       "      <td>...</td>\n",
       "      <td>...</td>\n",
       "      <td>...</td>\n",
       "      <td>...</td>\n",
       "      <td>...</td>\n",
       "      <td>...</td>\n",
       "      <td>...</td>\n",
       "      <td>...</td>\n",
       "      <td>...</td>\n",
       "      <td>...</td>\n",
       "      <td>...</td>\n",
       "    </tr>\n",
       "    <tr>\n",
       "      <th>2235</th>\n",
       "      <td>10870</td>\n",
       "      <td>1967</td>\n",
       "      <td>Graduation</td>\n",
       "      <td>Married</td>\n",
       "      <td>61223.0</td>\n",
       "      <td>0</td>\n",
       "      <td>1</td>\n",
       "      <td>13-06-2013</td>\n",
       "      <td>46</td>\n",
       "      <td>709</td>\n",
       "      <td>...</td>\n",
       "      <td>3</td>\n",
       "      <td>4</td>\n",
       "      <td>5</td>\n",
       "      <td>0</td>\n",
       "      <td>0</td>\n",
       "      <td>0</td>\n",
       "      <td>0</td>\n",
       "      <td>0</td>\n",
       "      <td>0</td>\n",
       "      <td>0</td>\n",
       "    </tr>\n",
       "    <tr>\n",
       "      <th>2236</th>\n",
       "      <td>4001</td>\n",
       "      <td>1946</td>\n",
       "      <td>PhD</td>\n",
       "      <td>Together</td>\n",
       "      <td>64014.0</td>\n",
       "      <td>2</td>\n",
       "      <td>1</td>\n",
       "      <td>10-06-2014</td>\n",
       "      <td>56</td>\n",
       "      <td>406</td>\n",
       "      <td>...</td>\n",
       "      <td>2</td>\n",
       "      <td>5</td>\n",
       "      <td>7</td>\n",
       "      <td>0</td>\n",
       "      <td>0</td>\n",
       "      <td>0</td>\n",
       "      <td>1</td>\n",
       "      <td>0</td>\n",
       "      <td>0</td>\n",
       "      <td>0</td>\n",
       "    </tr>\n",
       "    <tr>\n",
       "      <th>2237</th>\n",
       "      <td>7270</td>\n",
       "      <td>1981</td>\n",
       "      <td>Graduation</td>\n",
       "      <td>Divorced</td>\n",
       "      <td>56981.0</td>\n",
       "      <td>0</td>\n",
       "      <td>0</td>\n",
       "      <td>25-01-2014</td>\n",
       "      <td>91</td>\n",
       "      <td>908</td>\n",
       "      <td>...</td>\n",
       "      <td>3</td>\n",
       "      <td>13</td>\n",
       "      <td>6</td>\n",
       "      <td>0</td>\n",
       "      <td>1</td>\n",
       "      <td>0</td>\n",
       "      <td>0</td>\n",
       "      <td>0</td>\n",
       "      <td>0</td>\n",
       "      <td>0</td>\n",
       "    </tr>\n",
       "    <tr>\n",
       "      <th>2238</th>\n",
       "      <td>8235</td>\n",
       "      <td>1956</td>\n",
       "      <td>Master</td>\n",
       "      <td>Together</td>\n",
       "      <td>69245.0</td>\n",
       "      <td>0</td>\n",
       "      <td>1</td>\n",
       "      <td>24-01-2014</td>\n",
       "      <td>8</td>\n",
       "      <td>428</td>\n",
       "      <td>...</td>\n",
       "      <td>5</td>\n",
       "      <td>10</td>\n",
       "      <td>3</td>\n",
       "      <td>0</td>\n",
       "      <td>0</td>\n",
       "      <td>0</td>\n",
       "      <td>0</td>\n",
       "      <td>0</td>\n",
       "      <td>0</td>\n",
       "      <td>0</td>\n",
       "    </tr>\n",
       "    <tr>\n",
       "      <th>2239</th>\n",
       "      <td>9405</td>\n",
       "      <td>1954</td>\n",
       "      <td>PhD</td>\n",
       "      <td>Married</td>\n",
       "      <td>52869.0</td>\n",
       "      <td>1</td>\n",
       "      <td>1</td>\n",
       "      <td>15-10-2012</td>\n",
       "      <td>40</td>\n",
       "      <td>84</td>\n",
       "      <td>...</td>\n",
       "      <td>1</td>\n",
       "      <td>4</td>\n",
       "      <td>7</td>\n",
       "      <td>0</td>\n",
       "      <td>0</td>\n",
       "      <td>0</td>\n",
       "      <td>0</td>\n",
       "      <td>0</td>\n",
       "      <td>0</td>\n",
       "      <td>1</td>\n",
       "    </tr>\n",
       "  </tbody>\n",
       "</table>\n",
       "<p>2240 rows × 27 columns</p>\n",
       "</div>"
      ],
      "text/plain": [
       "         ID  Year_Birth   Education Marital_Status   Income  Kidhome  \\\n",
       "0      5524        1957  Graduation         Single  58138.0        0   \n",
       "1      2174        1954  Graduation         Single  46344.0        1   \n",
       "2      4141        1965  Graduation       Together  71613.0        0   \n",
       "3      6182        1984  Graduation       Together  26646.0        1   \n",
       "4      5324        1981         PhD        Married  58293.0        1   \n",
       "...     ...         ...         ...            ...      ...      ...   \n",
       "2235  10870        1967  Graduation        Married  61223.0        0   \n",
       "2236   4001        1946         PhD       Together  64014.0        2   \n",
       "2237   7270        1981  Graduation       Divorced  56981.0        0   \n",
       "2238   8235        1956      Master       Together  69245.0        0   \n",
       "2239   9405        1954         PhD        Married  52869.0        1   \n",
       "\n",
       "      Teenhome Dt_Customer  Recency  MntWines  ...  NumCatalogPurchases  \\\n",
       "0            0  04-09-2012       58       635  ...                   10   \n",
       "1            1  08-03-2014       38        11  ...                    1   \n",
       "2            0  21-08-2013       26       426  ...                    2   \n",
       "3            0  10-02-2014       26        11  ...                    0   \n",
       "4            0  19-01-2014       94       173  ...                    3   \n",
       "...        ...         ...      ...       ...  ...                  ...   \n",
       "2235         1  13-06-2013       46       709  ...                    3   \n",
       "2236         1  10-06-2014       56       406  ...                    2   \n",
       "2237         0  25-01-2014       91       908  ...                    3   \n",
       "2238         1  24-01-2014        8       428  ...                    5   \n",
       "2239         1  15-10-2012       40        84  ...                    1   \n",
       "\n",
       "      NumStorePurchases  NumWebVisitsMonth  AcceptedCmp3  AcceptedCmp4  \\\n",
       "0                     4                  7             0             0   \n",
       "1                     2                  5             0             0   \n",
       "2                    10                  4             0             0   \n",
       "3                     4                  6             0             0   \n",
       "4                     6                  5             0             0   \n",
       "...                 ...                ...           ...           ...   \n",
       "2235                  4                  5             0             0   \n",
       "2236                  5                  7             0             0   \n",
       "2237                 13                  6             0             1   \n",
       "2238                 10                  3             0             0   \n",
       "2239                  4                  7             0             0   \n",
       "\n",
       "      AcceptedCmp5  AcceptedCmp1  AcceptedCmp2  Complain  Response  \n",
       "0                0             0             0         0         1  \n",
       "1                0             0             0         0         0  \n",
       "2                0             0             0         0         0  \n",
       "3                0             0             0         0         0  \n",
       "4                0             0             0         0         0  \n",
       "...            ...           ...           ...       ...       ...  \n",
       "2235             0             0             0         0         0  \n",
       "2236             0             1             0         0         0  \n",
       "2237             0             0             0         0         0  \n",
       "2238             0             0             0         0         0  \n",
       "2239             0             0             0         0         1  \n",
       "\n",
       "[2240 rows x 27 columns]"
      ]
     },
     "execution_count": 51,
     "metadata": {},
     "output_type": "execute_result"
    }
   ],
   "source": [
    "data.drop(['Z_CostContact', 'Z_Revenue'], axis = 1)"
   ]
  },
  {
   "cell_type": "markdown",
   "id": "b1dd3ea6-7a03-41a7-8bfb-1502c01e2ff7",
   "metadata": {},
   "source": [
    "Cleaning Rows: eliminates rows containing any missing (NaN) values, ensuring a DataFrame without such incomplete data"
   ]
  },
  {
   "cell_type": "code",
   "execution_count": 52,
   "id": "ea5ce7c7-48a4-4b68-88d0-92d82404a568",
   "metadata": {},
   "outputs": [],
   "source": [
    "data = data.dropna()"
   ]
  },
  {
   "cell_type": "markdown",
   "id": "5ac8ead9-02f4-472b-a9af-44d13fd4f09f",
   "metadata": {},
   "source": [
    "Using pd.to_datetime(), the <em>Dt_Customer</em> column, originally stored as an object, is converted to a datetime format. The specified format '%d-%m-%Y' indicates the day-month-year sequence within the <em>Dt_Customer</em> column, reformatting it to a standardized date representation"
   ]
  },
  {
   "cell_type": "code",
   "execution_count": 53,
   "id": "d45bdc12-028c-4f5c-bb69-ac9827529644",
   "metadata": {
    "tags": []
   },
   "outputs": [],
   "source": [
    "data['Dt_Customer'] = pd.to_datetime(data['Dt_Customer'], format='%d-%m-%Y')"
   ]
  },
  {
   "cell_type": "markdown",
   "id": "8e8c16b1-5a87-4b18-b00d-7342f458801c",
   "metadata": {},
   "source": [
    "These operations transform the 'data' DataFrame by altering, creating, and refining columns and their contents for better analysis and clarity"
   ]
  },
  {
   "cell_type": "code",
   "execution_count": 54,
   "id": "33d6ce49-7f61-4eba-b528-3d5d3a399879",
   "metadata": {
    "tags": []
   },
   "outputs": [],
   "source": [
    "data[\"Age\"] = 2023 - data[\"Year_Birth\"]\n",
    "data[\"Kids\"] = data[\"Kidhome\"] + data[\"Teenhome\"]\n",
    "data[\"Spent\"] = data[\"MntWines\"]+ data[\"MntFruits\"]+ data[\"MntMeatProducts\"]+ data[\"MntFishProducts\"]+ data[\"MntSweetProducts\"]+ data[\"MntGoldProds\"]\n",
    "data[\"Marital_Status\"]=data[\"Marital_Status\"].replace({\"Married\":\"1\", \"Together\":\"1\",\"Absurd\":\"0\", \"Widow\":\"0\", \"YOLO\":\"0\", \"Divorced\":\"0\", \"Single\":\"0\", \"Alone\":\"0\"})\n",
    "data[\"Marital_Status\"] = data[\"Marital_Status\"].astype('int64')\n",
    "data[\"Education\"]=data[\"Education\"].replace({\"Basic\":\"Undergraduate\",\"2n Cycle\":\"Undergraduate\", \"Graduation\":\"Graduate\", \"Master\":\"Postgraduate\", \"PhD\":\"Postgraduate\"})\n",
    "data=data.rename(columns={\"MntWines\": \"Wines\",\"MntFruits\":\"Fruits\",\"MntMeatProducts\":\"Meat\",\"MntFishProducts\":\"Fish\",\"MntSweetProducts\":\"Sweets\",\"MntGoldProds\":\"Gold\",\"NumDealsPurchases\": \"DealsPurch\", \"NumWebPurchases\": \"WebPurch\", \"NumCatalogPurchases\" : \"CatalogPurch\", \"NumStorePurchases\": \"StorePurch\", \"NumWebVisitsMonth\": \"WebVisits\"})\n",
    "to_drop = [\"Year_Birth\",\"Z_CostContact\", \"Z_Revenue\", \"AcceptedCmp1\", \"AcceptedCmp2\", \"AcceptedCmp3\", \"AcceptedCmp4\", \"AcceptedCmp5\", \"Complain\", \"Response\"]\n",
    "data = data.drop(to_drop, axis=1)"
   ]
  },
  {
   "cell_type": "markdown",
   "id": "155ed566-a991-44b8-ae60-afe18d81f953",
   "metadata": {},
   "source": [
    "Before we transformed the 'data' DataFrame, we had 28 columns with some columns that we would not precisely need to this process, so we rearranged it with the cell above and got\n",
    "the following info from the DataFrame. We created a column called <em>Age</em>, where we subtracted the year 2023 with the data[\"Year_Birth\"], created another column called <em>Spent</em>  by summing up expenditure columns (<em>MntWines</em>, <em>MntFruits</em>, <em>MntMeatProducts</em>, <em>MntFishProducts</em>, <em>MntSweetProducts</em>, <em>MntGoldProds</em>), representing the overall spent amount, replaced specific categories and converting them into integers (0 or 1) on the column <em>Marital_Status</em>, renamed some columns and eliminated some unwanted columns. With all these changes we got a better understanding of the contents, with a total of 22 columns"
   ]
  },
  {
   "cell_type": "code",
   "execution_count": 55,
   "id": "156c0ac1-ad2d-479d-87db-99e71946d9e5",
   "metadata": {
    "tags": []
   },
   "outputs": [
    {
     "name": "stdout",
     "output_type": "stream",
     "text": [
      "<class 'pandas.core.frame.DataFrame'>\n",
      "Index: 2216 entries, 0 to 2239\n",
      "Data columns (total 22 columns):\n",
      " #   Column          Non-Null Count  Dtype         \n",
      "---  ------          --------------  -----         \n",
      " 0   ID              2216 non-null   int64         \n",
      " 1   Education       2216 non-null   object        \n",
      " 2   Marital_Status  2216 non-null   int64         \n",
      " 3   Income          2216 non-null   float64       \n",
      " 4   Kidhome         2216 non-null   int64         \n",
      " 5   Teenhome        2216 non-null   int64         \n",
      " 6   Dt_Customer     2216 non-null   datetime64[ns]\n",
      " 7   Recency         2216 non-null   int64         \n",
      " 8   Wines           2216 non-null   int64         \n",
      " 9   Fruits          2216 non-null   int64         \n",
      " 10  Meat            2216 non-null   int64         \n",
      " 11  Fish            2216 non-null   int64         \n",
      " 12  Sweets          2216 non-null   int64         \n",
      " 13  Gold            2216 non-null   int64         \n",
      " 14  DealsPurch      2216 non-null   int64         \n",
      " 15  WebPurch        2216 non-null   int64         \n",
      " 16  CatalogPurch    2216 non-null   int64         \n",
      " 17  StorePurch      2216 non-null   int64         \n",
      " 18  WebVisits       2216 non-null   int64         \n",
      " 19  Age             2216 non-null   int64         \n",
      " 20  Kids            2216 non-null   int64         \n",
      " 21  Spent           2216 non-null   int64         \n",
      "dtypes: datetime64[ns](1), float64(1), int64(19), object(1)\n",
      "memory usage: 398.2+ KB\n"
     ]
    }
   ],
   "source": [
    "data.info()"
   ]
  },
  {
   "cell_type": "markdown",
   "id": "4c284b57-fb83-464b-84d5-43dc5fd40490",
   "metadata": {},
   "source": [
    "Here we generate descriptive statistics of the numerical columns in the DataFrame 'data', including count, mean, standard deviation, minimum, maximum and quartile values. This summary helps in understanding the distribution and characteristics of the numerical data"
   ]
  },
  {
   "cell_type": "code",
   "execution_count": 56,
   "id": "3e4d3e07-51ee-4b14-934e-97bce22363ec",
   "metadata": {
    "tags": []
   },
   "outputs": [
    {
     "data": {
      "text/html": [
       "<div>\n",
       "<style scoped>\n",
       "    .dataframe tbody tr th:only-of-type {\n",
       "        vertical-align: middle;\n",
       "    }\n",
       "\n",
       "    .dataframe tbody tr th {\n",
       "        vertical-align: top;\n",
       "    }\n",
       "\n",
       "    .dataframe thead th {\n",
       "        text-align: right;\n",
       "    }\n",
       "</style>\n",
       "<table border=\"1\" class=\"dataframe\">\n",
       "  <thead>\n",
       "    <tr style=\"text-align: right;\">\n",
       "      <th></th>\n",
       "      <th>ID</th>\n",
       "      <th>Marital_Status</th>\n",
       "      <th>Income</th>\n",
       "      <th>Kidhome</th>\n",
       "      <th>Teenhome</th>\n",
       "      <th>Dt_Customer</th>\n",
       "      <th>Recency</th>\n",
       "      <th>Wines</th>\n",
       "      <th>Fruits</th>\n",
       "      <th>Meat</th>\n",
       "      <th>...</th>\n",
       "      <th>Sweets</th>\n",
       "      <th>Gold</th>\n",
       "      <th>DealsPurch</th>\n",
       "      <th>WebPurch</th>\n",
       "      <th>CatalogPurch</th>\n",
       "      <th>StorePurch</th>\n",
       "      <th>WebVisits</th>\n",
       "      <th>Age</th>\n",
       "      <th>Kids</th>\n",
       "      <th>Spent</th>\n",
       "    </tr>\n",
       "  </thead>\n",
       "  <tbody>\n",
       "    <tr>\n",
       "      <th>count</th>\n",
       "      <td>2216.000000</td>\n",
       "      <td>2216.000000</td>\n",
       "      <td>2216.000000</td>\n",
       "      <td>2216.000000</td>\n",
       "      <td>2216.000000</td>\n",
       "      <td>2216</td>\n",
       "      <td>2216.000000</td>\n",
       "      <td>2216.000000</td>\n",
       "      <td>2216.000000</td>\n",
       "      <td>2216.000000</td>\n",
       "      <td>...</td>\n",
       "      <td>2216.000000</td>\n",
       "      <td>2216.000000</td>\n",
       "      <td>2216.000000</td>\n",
       "      <td>2216.000000</td>\n",
       "      <td>2216.000000</td>\n",
       "      <td>2216.000000</td>\n",
       "      <td>2216.000000</td>\n",
       "      <td>2216.000000</td>\n",
       "      <td>2216.000000</td>\n",
       "      <td>2216.000000</td>\n",
       "    </tr>\n",
       "    <tr>\n",
       "      <th>mean</th>\n",
       "      <td>5588.353339</td>\n",
       "      <td>0.645307</td>\n",
       "      <td>52247.251354</td>\n",
       "      <td>0.441787</td>\n",
       "      <td>0.505415</td>\n",
       "      <td>2013-07-10 11:29:27.509025280</td>\n",
       "      <td>49.012635</td>\n",
       "      <td>305.091606</td>\n",
       "      <td>26.356047</td>\n",
       "      <td>166.995939</td>\n",
       "      <td>...</td>\n",
       "      <td>27.028881</td>\n",
       "      <td>43.965253</td>\n",
       "      <td>2.323556</td>\n",
       "      <td>4.085289</td>\n",
       "      <td>2.671029</td>\n",
       "      <td>5.800993</td>\n",
       "      <td>5.319043</td>\n",
       "      <td>54.179603</td>\n",
       "      <td>0.947202</td>\n",
       "      <td>607.075361</td>\n",
       "    </tr>\n",
       "    <tr>\n",
       "      <th>min</th>\n",
       "      <td>0.000000</td>\n",
       "      <td>0.000000</td>\n",
       "      <td>1730.000000</td>\n",
       "      <td>0.000000</td>\n",
       "      <td>0.000000</td>\n",
       "      <td>2012-07-30 00:00:00</td>\n",
       "      <td>0.000000</td>\n",
       "      <td>0.000000</td>\n",
       "      <td>0.000000</td>\n",
       "      <td>0.000000</td>\n",
       "      <td>...</td>\n",
       "      <td>0.000000</td>\n",
       "      <td>0.000000</td>\n",
       "      <td>0.000000</td>\n",
       "      <td>0.000000</td>\n",
       "      <td>0.000000</td>\n",
       "      <td>0.000000</td>\n",
       "      <td>0.000000</td>\n",
       "      <td>27.000000</td>\n",
       "      <td>0.000000</td>\n",
       "      <td>5.000000</td>\n",
       "    </tr>\n",
       "    <tr>\n",
       "      <th>25%</th>\n",
       "      <td>2814.750000</td>\n",
       "      <td>0.000000</td>\n",
       "      <td>35303.000000</td>\n",
       "      <td>0.000000</td>\n",
       "      <td>0.000000</td>\n",
       "      <td>2013-01-16 00:00:00</td>\n",
       "      <td>24.000000</td>\n",
       "      <td>24.000000</td>\n",
       "      <td>2.000000</td>\n",
       "      <td>16.000000</td>\n",
       "      <td>...</td>\n",
       "      <td>1.000000</td>\n",
       "      <td>9.000000</td>\n",
       "      <td>1.000000</td>\n",
       "      <td>2.000000</td>\n",
       "      <td>0.000000</td>\n",
       "      <td>3.000000</td>\n",
       "      <td>3.000000</td>\n",
       "      <td>46.000000</td>\n",
       "      <td>0.000000</td>\n",
       "      <td>69.000000</td>\n",
       "    </tr>\n",
       "    <tr>\n",
       "      <th>50%</th>\n",
       "      <td>5458.500000</td>\n",
       "      <td>1.000000</td>\n",
       "      <td>51381.500000</td>\n",
       "      <td>0.000000</td>\n",
       "      <td>0.000000</td>\n",
       "      <td>2013-07-08 12:00:00</td>\n",
       "      <td>49.000000</td>\n",
       "      <td>174.500000</td>\n",
       "      <td>8.000000</td>\n",
       "      <td>68.000000</td>\n",
       "      <td>...</td>\n",
       "      <td>8.000000</td>\n",
       "      <td>24.500000</td>\n",
       "      <td>2.000000</td>\n",
       "      <td>4.000000</td>\n",
       "      <td>2.000000</td>\n",
       "      <td>5.000000</td>\n",
       "      <td>6.000000</td>\n",
       "      <td>53.000000</td>\n",
       "      <td>1.000000</td>\n",
       "      <td>396.500000</td>\n",
       "    </tr>\n",
       "    <tr>\n",
       "      <th>75%</th>\n",
       "      <td>8421.750000</td>\n",
       "      <td>1.000000</td>\n",
       "      <td>68522.000000</td>\n",
       "      <td>1.000000</td>\n",
       "      <td>1.000000</td>\n",
       "      <td>2013-12-31 00:00:00</td>\n",
       "      <td>74.000000</td>\n",
       "      <td>505.000000</td>\n",
       "      <td>33.000000</td>\n",
       "      <td>232.250000</td>\n",
       "      <td>...</td>\n",
       "      <td>33.000000</td>\n",
       "      <td>56.000000</td>\n",
       "      <td>3.000000</td>\n",
       "      <td>6.000000</td>\n",
       "      <td>4.000000</td>\n",
       "      <td>8.000000</td>\n",
       "      <td>7.000000</td>\n",
       "      <td>64.000000</td>\n",
       "      <td>1.000000</td>\n",
       "      <td>1048.000000</td>\n",
       "    </tr>\n",
       "    <tr>\n",
       "      <th>max</th>\n",
       "      <td>11191.000000</td>\n",
       "      <td>1.000000</td>\n",
       "      <td>666666.000000</td>\n",
       "      <td>2.000000</td>\n",
       "      <td>2.000000</td>\n",
       "      <td>2014-06-29 00:00:00</td>\n",
       "      <td>99.000000</td>\n",
       "      <td>1493.000000</td>\n",
       "      <td>199.000000</td>\n",
       "      <td>1725.000000</td>\n",
       "      <td>...</td>\n",
       "      <td>262.000000</td>\n",
       "      <td>321.000000</td>\n",
       "      <td>15.000000</td>\n",
       "      <td>27.000000</td>\n",
       "      <td>28.000000</td>\n",
       "      <td>13.000000</td>\n",
       "      <td>20.000000</td>\n",
       "      <td>130.000000</td>\n",
       "      <td>3.000000</td>\n",
       "      <td>2525.000000</td>\n",
       "    </tr>\n",
       "    <tr>\n",
       "      <th>std</th>\n",
       "      <td>3249.376275</td>\n",
       "      <td>0.478528</td>\n",
       "      <td>25173.076661</td>\n",
       "      <td>0.536896</td>\n",
       "      <td>0.544181</td>\n",
       "      <td>NaN</td>\n",
       "      <td>28.948352</td>\n",
       "      <td>337.327920</td>\n",
       "      <td>39.793917</td>\n",
       "      <td>224.283273</td>\n",
       "      <td>...</td>\n",
       "      <td>41.072046</td>\n",
       "      <td>51.815414</td>\n",
       "      <td>1.923716</td>\n",
       "      <td>2.740951</td>\n",
       "      <td>2.926734</td>\n",
       "      <td>3.250785</td>\n",
       "      <td>2.425359</td>\n",
       "      <td>11.985554</td>\n",
       "      <td>0.749062</td>\n",
       "      <td>602.900476</td>\n",
       "    </tr>\n",
       "  </tbody>\n",
       "</table>\n",
       "<p>8 rows × 21 columns</p>\n",
       "</div>"
      ],
      "text/plain": [
       "                 ID  Marital_Status         Income      Kidhome     Teenhome  \\\n",
       "count   2216.000000     2216.000000    2216.000000  2216.000000  2216.000000   \n",
       "mean    5588.353339        0.645307   52247.251354     0.441787     0.505415   \n",
       "min        0.000000        0.000000    1730.000000     0.000000     0.000000   \n",
       "25%     2814.750000        0.000000   35303.000000     0.000000     0.000000   \n",
       "50%     5458.500000        1.000000   51381.500000     0.000000     0.000000   \n",
       "75%     8421.750000        1.000000   68522.000000     1.000000     1.000000   \n",
       "max    11191.000000        1.000000  666666.000000     2.000000     2.000000   \n",
       "std     3249.376275        0.478528   25173.076661     0.536896     0.544181   \n",
       "\n",
       "                         Dt_Customer      Recency        Wines       Fruits  \\\n",
       "count                           2216  2216.000000  2216.000000  2216.000000   \n",
       "mean   2013-07-10 11:29:27.509025280    49.012635   305.091606    26.356047   \n",
       "min              2012-07-30 00:00:00     0.000000     0.000000     0.000000   \n",
       "25%              2013-01-16 00:00:00    24.000000    24.000000     2.000000   \n",
       "50%              2013-07-08 12:00:00    49.000000   174.500000     8.000000   \n",
       "75%              2013-12-31 00:00:00    74.000000   505.000000    33.000000   \n",
       "max              2014-06-29 00:00:00    99.000000  1493.000000   199.000000   \n",
       "std                              NaN    28.948352   337.327920    39.793917   \n",
       "\n",
       "              Meat  ...       Sweets         Gold   DealsPurch     WebPurch  \\\n",
       "count  2216.000000  ...  2216.000000  2216.000000  2216.000000  2216.000000   \n",
       "mean    166.995939  ...    27.028881    43.965253     2.323556     4.085289   \n",
       "min       0.000000  ...     0.000000     0.000000     0.000000     0.000000   \n",
       "25%      16.000000  ...     1.000000     9.000000     1.000000     2.000000   \n",
       "50%      68.000000  ...     8.000000    24.500000     2.000000     4.000000   \n",
       "75%     232.250000  ...    33.000000    56.000000     3.000000     6.000000   \n",
       "max    1725.000000  ...   262.000000   321.000000    15.000000    27.000000   \n",
       "std     224.283273  ...    41.072046    51.815414     1.923716     2.740951   \n",
       "\n",
       "       CatalogPurch   StorePurch    WebVisits          Age         Kids  \\\n",
       "count   2216.000000  2216.000000  2216.000000  2216.000000  2216.000000   \n",
       "mean       2.671029     5.800993     5.319043    54.179603     0.947202   \n",
       "min        0.000000     0.000000     0.000000    27.000000     0.000000   \n",
       "25%        0.000000     3.000000     3.000000    46.000000     0.000000   \n",
       "50%        2.000000     5.000000     6.000000    53.000000     1.000000   \n",
       "75%        4.000000     8.000000     7.000000    64.000000     1.000000   \n",
       "max       28.000000    13.000000    20.000000   130.000000     3.000000   \n",
       "std        2.926734     3.250785     2.425359    11.985554     0.749062   \n",
       "\n",
       "             Spent  \n",
       "count  2216.000000  \n",
       "mean    607.075361  \n",
       "min       5.000000  \n",
       "25%      69.000000  \n",
       "50%     396.500000  \n",
       "75%    1048.000000  \n",
       "max    2525.000000  \n",
       "std     602.900476  \n",
       "\n",
       "[8 rows x 21 columns]"
      ]
     },
     "execution_count": 56,
     "metadata": {},
     "output_type": "execute_result"
    }
   ],
   "source": [
    "data.describe()"
   ]
  },
  {
   "cell_type": "markdown",
   "id": "255d185c-4d17-4bb6-80fc-bc05341fb0db",
   "metadata": {},
   "source": [
    "We create a copy of the original DataFrame 'data' named 'data1', ensuring that any changes made to 'data1' won't affect the original 'data' DataFrame"
   ]
  },
  {
   "cell_type": "code",
   "execution_count": 57,
   "id": "7c1f5662-6671-4d25-951d-30f0bf422227",
   "metadata": {},
   "outputs": [],
   "source": [
    "data1 = data.copy()"
   ]
  },
  {
   "cell_type": "markdown",
   "id": "a10dd0db-3d56-4de4-a0f0-22d2649cfc78",
   "metadata": {},
   "source": [
    "## Feature and Target Data Separation"
   ]
  },
  {
   "cell_type": "markdown",
   "id": "00b71f47-ec21-4be2-9103-5a4ee1454d73",
   "metadata": {},
   "source": [
    "In case we did not treat the data previously, we would have to create a DataFrame 'X', by excluding the columns <em>Marital_Status</em>, <em>Education</em>, <em>DT_Customer</em> from 'data1'. This DataFrame contains the features for modeling\n",
    "\n",
    "We also prepare the target variable 'y' by extracting the <em>Marital_Status</em> column from the original 'data' DataFrame, converting it into a DataFrame format. This will be the target for the model\n",
    "\n",
    "These steps separate the data for predictive modeling or analysis: 'X' represents the features, while 'y' represents the target variable to be predicted or analyzed\n"
   ]
  },
  {
   "cell_type": "code",
   "execution_count": 58,
   "id": "babd91c9-a2ac-43e2-a3d0-5d2042f4b0ff",
   "metadata": {
    "tags": []
   },
   "outputs": [],
   "source": [
    "X = data1.drop(['Marital_Status', 'Education', 'Dt_Customer'], axis=1)\n",
    "y = data['Marital_Status'].to_frame()"
   ]
  },
  {
   "cell_type": "code",
   "execution_count": 59,
   "id": "5d990651-f864-41eb-a291-31f9e310ed4b",
   "metadata": {
    "tags": []
   },
   "outputs": [
    {
     "name": "stdout",
     "output_type": "stream",
     "text": [
      "<class 'pandas.core.frame.DataFrame'>\n",
      "Index: 2216 entries, 0 to 2239\n",
      "Data columns (total 22 columns):\n",
      " #   Column          Non-Null Count  Dtype         \n",
      "---  ------          --------------  -----         \n",
      " 0   ID              2216 non-null   int64         \n",
      " 1   Education       2216 non-null   object        \n",
      " 2   Marital_Status  2216 non-null   int64         \n",
      " 3   Income          2216 non-null   float64       \n",
      " 4   Kidhome         2216 non-null   int64         \n",
      " 5   Teenhome        2216 non-null   int64         \n",
      " 6   Dt_Customer     2216 non-null   datetime64[ns]\n",
      " 7   Recency         2216 non-null   int64         \n",
      " 8   Wines           2216 non-null   int64         \n",
      " 9   Fruits          2216 non-null   int64         \n",
      " 10  Meat            2216 non-null   int64         \n",
      " 11  Fish            2216 non-null   int64         \n",
      " 12  Sweets          2216 non-null   int64         \n",
      " 13  Gold            2216 non-null   int64         \n",
      " 14  DealsPurch      2216 non-null   int64         \n",
      " 15  WebPurch        2216 non-null   int64         \n",
      " 16  CatalogPurch    2216 non-null   int64         \n",
      " 17  StorePurch      2216 non-null   int64         \n",
      " 18  WebVisits       2216 non-null   int64         \n",
      " 19  Age             2216 non-null   int64         \n",
      " 20  Kids            2216 non-null   int64         \n",
      " 21  Spent           2216 non-null   int64         \n",
      "dtypes: datetime64[ns](1), float64(1), int64(19), object(1)\n",
      "memory usage: 398.2+ KB\n"
     ]
    }
   ],
   "source": [
    "data1.info()"
   ]
  },
  {
   "cell_type": "markdown",
   "id": "d11f6964-ab6d-4c8c-ad17-6ee385e8abaf",
   "metadata": {},
   "source": [
    "Displaying the contents of the DataFrame 'X'"
   ]
  },
  {
   "cell_type": "code",
   "execution_count": 60,
   "id": "a54b8b03-731c-4c4c-8584-51dabaa71ee1",
   "metadata": {
    "tags": []
   },
   "outputs": [
    {
     "data": {
      "text/html": [
       "<div>\n",
       "<style scoped>\n",
       "    .dataframe tbody tr th:only-of-type {\n",
       "        vertical-align: middle;\n",
       "    }\n",
       "\n",
       "    .dataframe tbody tr th {\n",
       "        vertical-align: top;\n",
       "    }\n",
       "\n",
       "    .dataframe thead th {\n",
       "        text-align: right;\n",
       "    }\n",
       "</style>\n",
       "<table border=\"1\" class=\"dataframe\">\n",
       "  <thead>\n",
       "    <tr style=\"text-align: right;\">\n",
       "      <th></th>\n",
       "      <th>ID</th>\n",
       "      <th>Income</th>\n",
       "      <th>Kidhome</th>\n",
       "      <th>Teenhome</th>\n",
       "      <th>Recency</th>\n",
       "      <th>Wines</th>\n",
       "      <th>Fruits</th>\n",
       "      <th>Meat</th>\n",
       "      <th>Fish</th>\n",
       "      <th>Sweets</th>\n",
       "      <th>Gold</th>\n",
       "      <th>DealsPurch</th>\n",
       "      <th>WebPurch</th>\n",
       "      <th>CatalogPurch</th>\n",
       "      <th>StorePurch</th>\n",
       "      <th>WebVisits</th>\n",
       "      <th>Age</th>\n",
       "      <th>Kids</th>\n",
       "      <th>Spent</th>\n",
       "    </tr>\n",
       "  </thead>\n",
       "  <tbody>\n",
       "    <tr>\n",
       "      <th>0</th>\n",
       "      <td>5524</td>\n",
       "      <td>58138.0</td>\n",
       "      <td>0</td>\n",
       "      <td>0</td>\n",
       "      <td>58</td>\n",
       "      <td>635</td>\n",
       "      <td>88</td>\n",
       "      <td>546</td>\n",
       "      <td>172</td>\n",
       "      <td>88</td>\n",
       "      <td>88</td>\n",
       "      <td>3</td>\n",
       "      <td>8</td>\n",
       "      <td>10</td>\n",
       "      <td>4</td>\n",
       "      <td>7</td>\n",
       "      <td>66</td>\n",
       "      <td>0</td>\n",
       "      <td>1617</td>\n",
       "    </tr>\n",
       "    <tr>\n",
       "      <th>1</th>\n",
       "      <td>2174</td>\n",
       "      <td>46344.0</td>\n",
       "      <td>1</td>\n",
       "      <td>1</td>\n",
       "      <td>38</td>\n",
       "      <td>11</td>\n",
       "      <td>1</td>\n",
       "      <td>6</td>\n",
       "      <td>2</td>\n",
       "      <td>1</td>\n",
       "      <td>6</td>\n",
       "      <td>2</td>\n",
       "      <td>1</td>\n",
       "      <td>1</td>\n",
       "      <td>2</td>\n",
       "      <td>5</td>\n",
       "      <td>69</td>\n",
       "      <td>2</td>\n",
       "      <td>27</td>\n",
       "    </tr>\n",
       "    <tr>\n",
       "      <th>2</th>\n",
       "      <td>4141</td>\n",
       "      <td>71613.0</td>\n",
       "      <td>0</td>\n",
       "      <td>0</td>\n",
       "      <td>26</td>\n",
       "      <td>426</td>\n",
       "      <td>49</td>\n",
       "      <td>127</td>\n",
       "      <td>111</td>\n",
       "      <td>21</td>\n",
       "      <td>42</td>\n",
       "      <td>1</td>\n",
       "      <td>8</td>\n",
       "      <td>2</td>\n",
       "      <td>10</td>\n",
       "      <td>4</td>\n",
       "      <td>58</td>\n",
       "      <td>0</td>\n",
       "      <td>776</td>\n",
       "    </tr>\n",
       "    <tr>\n",
       "      <th>3</th>\n",
       "      <td>6182</td>\n",
       "      <td>26646.0</td>\n",
       "      <td>1</td>\n",
       "      <td>0</td>\n",
       "      <td>26</td>\n",
       "      <td>11</td>\n",
       "      <td>4</td>\n",
       "      <td>20</td>\n",
       "      <td>10</td>\n",
       "      <td>3</td>\n",
       "      <td>5</td>\n",
       "      <td>2</td>\n",
       "      <td>2</td>\n",
       "      <td>0</td>\n",
       "      <td>4</td>\n",
       "      <td>6</td>\n",
       "      <td>39</td>\n",
       "      <td>1</td>\n",
       "      <td>53</td>\n",
       "    </tr>\n",
       "    <tr>\n",
       "      <th>4</th>\n",
       "      <td>5324</td>\n",
       "      <td>58293.0</td>\n",
       "      <td>1</td>\n",
       "      <td>0</td>\n",
       "      <td>94</td>\n",
       "      <td>173</td>\n",
       "      <td>43</td>\n",
       "      <td>118</td>\n",
       "      <td>46</td>\n",
       "      <td>27</td>\n",
       "      <td>15</td>\n",
       "      <td>5</td>\n",
       "      <td>5</td>\n",
       "      <td>3</td>\n",
       "      <td>6</td>\n",
       "      <td>5</td>\n",
       "      <td>42</td>\n",
       "      <td>1</td>\n",
       "      <td>422</td>\n",
       "    </tr>\n",
       "    <tr>\n",
       "      <th>...</th>\n",
       "      <td>...</td>\n",
       "      <td>...</td>\n",
       "      <td>...</td>\n",
       "      <td>...</td>\n",
       "      <td>...</td>\n",
       "      <td>...</td>\n",
       "      <td>...</td>\n",
       "      <td>...</td>\n",
       "      <td>...</td>\n",
       "      <td>...</td>\n",
       "      <td>...</td>\n",
       "      <td>...</td>\n",
       "      <td>...</td>\n",
       "      <td>...</td>\n",
       "      <td>...</td>\n",
       "      <td>...</td>\n",
       "      <td>...</td>\n",
       "      <td>...</td>\n",
       "      <td>...</td>\n",
       "    </tr>\n",
       "    <tr>\n",
       "      <th>2235</th>\n",
       "      <td>10870</td>\n",
       "      <td>61223.0</td>\n",
       "      <td>0</td>\n",
       "      <td>1</td>\n",
       "      <td>46</td>\n",
       "      <td>709</td>\n",
       "      <td>43</td>\n",
       "      <td>182</td>\n",
       "      <td>42</td>\n",
       "      <td>118</td>\n",
       "      <td>247</td>\n",
       "      <td>2</td>\n",
       "      <td>9</td>\n",
       "      <td>3</td>\n",
       "      <td>4</td>\n",
       "      <td>5</td>\n",
       "      <td>56</td>\n",
       "      <td>1</td>\n",
       "      <td>1341</td>\n",
       "    </tr>\n",
       "    <tr>\n",
       "      <th>2236</th>\n",
       "      <td>4001</td>\n",
       "      <td>64014.0</td>\n",
       "      <td>2</td>\n",
       "      <td>1</td>\n",
       "      <td>56</td>\n",
       "      <td>406</td>\n",
       "      <td>0</td>\n",
       "      <td>30</td>\n",
       "      <td>0</td>\n",
       "      <td>0</td>\n",
       "      <td>8</td>\n",
       "      <td>7</td>\n",
       "      <td>8</td>\n",
       "      <td>2</td>\n",
       "      <td>5</td>\n",
       "      <td>7</td>\n",
       "      <td>77</td>\n",
       "      <td>3</td>\n",
       "      <td>444</td>\n",
       "    </tr>\n",
       "    <tr>\n",
       "      <th>2237</th>\n",
       "      <td>7270</td>\n",
       "      <td>56981.0</td>\n",
       "      <td>0</td>\n",
       "      <td>0</td>\n",
       "      <td>91</td>\n",
       "      <td>908</td>\n",
       "      <td>48</td>\n",
       "      <td>217</td>\n",
       "      <td>32</td>\n",
       "      <td>12</td>\n",
       "      <td>24</td>\n",
       "      <td>1</td>\n",
       "      <td>2</td>\n",
       "      <td>3</td>\n",
       "      <td>13</td>\n",
       "      <td>6</td>\n",
       "      <td>42</td>\n",
       "      <td>0</td>\n",
       "      <td>1241</td>\n",
       "    </tr>\n",
       "    <tr>\n",
       "      <th>2238</th>\n",
       "      <td>8235</td>\n",
       "      <td>69245.0</td>\n",
       "      <td>0</td>\n",
       "      <td>1</td>\n",
       "      <td>8</td>\n",
       "      <td>428</td>\n",
       "      <td>30</td>\n",
       "      <td>214</td>\n",
       "      <td>80</td>\n",
       "      <td>30</td>\n",
       "      <td>61</td>\n",
       "      <td>2</td>\n",
       "      <td>6</td>\n",
       "      <td>5</td>\n",
       "      <td>10</td>\n",
       "      <td>3</td>\n",
       "      <td>67</td>\n",
       "      <td>1</td>\n",
       "      <td>843</td>\n",
       "    </tr>\n",
       "    <tr>\n",
       "      <th>2239</th>\n",
       "      <td>9405</td>\n",
       "      <td>52869.0</td>\n",
       "      <td>1</td>\n",
       "      <td>1</td>\n",
       "      <td>40</td>\n",
       "      <td>84</td>\n",
       "      <td>3</td>\n",
       "      <td>61</td>\n",
       "      <td>2</td>\n",
       "      <td>1</td>\n",
       "      <td>21</td>\n",
       "      <td>3</td>\n",
       "      <td>3</td>\n",
       "      <td>1</td>\n",
       "      <td>4</td>\n",
       "      <td>7</td>\n",
       "      <td>69</td>\n",
       "      <td>2</td>\n",
       "      <td>172</td>\n",
       "    </tr>\n",
       "  </tbody>\n",
       "</table>\n",
       "<p>2216 rows × 19 columns</p>\n",
       "</div>"
      ],
      "text/plain": [
       "         ID   Income  Kidhome  Teenhome  Recency  Wines  Fruits  Meat  Fish  \\\n",
       "0      5524  58138.0        0         0       58    635      88   546   172   \n",
       "1      2174  46344.0        1         1       38     11       1     6     2   \n",
       "2      4141  71613.0        0         0       26    426      49   127   111   \n",
       "3      6182  26646.0        1         0       26     11       4    20    10   \n",
       "4      5324  58293.0        1         0       94    173      43   118    46   \n",
       "...     ...      ...      ...       ...      ...    ...     ...   ...   ...   \n",
       "2235  10870  61223.0        0         1       46    709      43   182    42   \n",
       "2236   4001  64014.0        2         1       56    406       0    30     0   \n",
       "2237   7270  56981.0        0         0       91    908      48   217    32   \n",
       "2238   8235  69245.0        0         1        8    428      30   214    80   \n",
       "2239   9405  52869.0        1         1       40     84       3    61     2   \n",
       "\n",
       "      Sweets  Gold  DealsPurch  WebPurch  CatalogPurch  StorePurch  WebVisits  \\\n",
       "0         88    88           3         8            10           4          7   \n",
       "1          1     6           2         1             1           2          5   \n",
       "2         21    42           1         8             2          10          4   \n",
       "3          3     5           2         2             0           4          6   \n",
       "4         27    15           5         5             3           6          5   \n",
       "...      ...   ...         ...       ...           ...         ...        ...   \n",
       "2235     118   247           2         9             3           4          5   \n",
       "2236       0     8           7         8             2           5          7   \n",
       "2237      12    24           1         2             3          13          6   \n",
       "2238      30    61           2         6             5          10          3   \n",
       "2239       1    21           3         3             1           4          7   \n",
       "\n",
       "      Age  Kids  Spent  \n",
       "0      66     0   1617  \n",
       "1      69     2     27  \n",
       "2      58     0    776  \n",
       "3      39     1     53  \n",
       "4      42     1    422  \n",
       "...   ...   ...    ...  \n",
       "2235   56     1   1341  \n",
       "2236   77     3    444  \n",
       "2237   42     0   1241  \n",
       "2238   67     1    843  \n",
       "2239   69     2    172  \n",
       "\n",
       "[2216 rows x 19 columns]"
      ]
     },
     "execution_count": 60,
     "metadata": {},
     "output_type": "execute_result"
    }
   ],
   "source": [
    "X"
   ]
  },
  {
   "cell_type": "markdown",
   "id": "bfc98ec8-7aa5-4510-a9c0-a64e553e9382",
   "metadata": {
    "tags": []
   },
   "source": [
    "Displaying the contents of the DataFrame 'y'"
   ]
  },
  {
   "cell_type": "code",
   "execution_count": 61,
   "id": "271c9c2b-886a-4790-8d1c-3bac307aed12",
   "metadata": {},
   "outputs": [
    {
     "data": {
      "text/html": [
       "<div>\n",
       "<style scoped>\n",
       "    .dataframe tbody tr th:only-of-type {\n",
       "        vertical-align: middle;\n",
       "    }\n",
       "\n",
       "    .dataframe tbody tr th {\n",
       "        vertical-align: top;\n",
       "    }\n",
       "\n",
       "    .dataframe thead th {\n",
       "        text-align: right;\n",
       "    }\n",
       "</style>\n",
       "<table border=\"1\" class=\"dataframe\">\n",
       "  <thead>\n",
       "    <tr style=\"text-align: right;\">\n",
       "      <th></th>\n",
       "      <th>Marital_Status</th>\n",
       "    </tr>\n",
       "  </thead>\n",
       "  <tbody>\n",
       "    <tr>\n",
       "      <th>0</th>\n",
       "      <td>0</td>\n",
       "    </tr>\n",
       "    <tr>\n",
       "      <th>1</th>\n",
       "      <td>0</td>\n",
       "    </tr>\n",
       "    <tr>\n",
       "      <th>2</th>\n",
       "      <td>1</td>\n",
       "    </tr>\n",
       "    <tr>\n",
       "      <th>3</th>\n",
       "      <td>1</td>\n",
       "    </tr>\n",
       "    <tr>\n",
       "      <th>4</th>\n",
       "      <td>1</td>\n",
       "    </tr>\n",
       "    <tr>\n",
       "      <th>...</th>\n",
       "      <td>...</td>\n",
       "    </tr>\n",
       "    <tr>\n",
       "      <th>2235</th>\n",
       "      <td>1</td>\n",
       "    </tr>\n",
       "    <tr>\n",
       "      <th>2236</th>\n",
       "      <td>1</td>\n",
       "    </tr>\n",
       "    <tr>\n",
       "      <th>2237</th>\n",
       "      <td>0</td>\n",
       "    </tr>\n",
       "    <tr>\n",
       "      <th>2238</th>\n",
       "      <td>1</td>\n",
       "    </tr>\n",
       "    <tr>\n",
       "      <th>2239</th>\n",
       "      <td>1</td>\n",
       "    </tr>\n",
       "  </tbody>\n",
       "</table>\n",
       "<p>2216 rows × 1 columns</p>\n",
       "</div>"
      ],
      "text/plain": [
       "      Marital_Status\n",
       "0                  0\n",
       "1                  0\n",
       "2                  1\n",
       "3                  1\n",
       "4                  1\n",
       "...              ...\n",
       "2235               1\n",
       "2236               1\n",
       "2237               0\n",
       "2238               1\n",
       "2239               1\n",
       "\n",
       "[2216 rows x 1 columns]"
      ]
     },
     "execution_count": 61,
     "metadata": {},
     "output_type": "execute_result"
    }
   ],
   "source": [
    "y"
   ]
  },
  {
   "cell_type": "code",
   "execution_count": 62,
   "id": "59ee009c-16bb-4c2e-b9c8-296db386dc0d",
   "metadata": {
    "tags": []
   },
   "outputs": [],
   "source": [
    "X_train, X_test, y_train, y_test = train_test_split(X, y, test_size=0.25, random_state=2023)"
   ]
  },
  {
   "cell_type": "code",
   "execution_count": 63,
   "id": "59bf8ef0-0c7a-4a9a-85d7-cbda1341dd9d",
   "metadata": {
    "tags": []
   },
   "outputs": [
    {
     "name": "stdout",
     "output_type": "stream",
     "text": [
      "The shape of X (2216, 19). X_train has shape (1662, 19) while X_test has shape (554, 19)\n"
     ]
    }
   ],
   "source": [
    "print(\"The shape of X %s. X_train has shape %s while X_test has shape %s\" %(X.shape, X_train.shape, X_test.shape))"
   ]
  },
  {
   "cell_type": "code",
   "execution_count": 64,
   "id": "a1f25a10-adfb-4168-aa49-61bed375d721",
   "metadata": {
    "tags": []
   },
   "outputs": [
    {
     "name": "stdout",
     "output_type": "stream",
     "text": [
      "The shape of y (2216, 1). y_train has shape (1662, 1) while y_test has shape (554, 1)\n"
     ]
    }
   ],
   "source": [
    "print(\"The shape of y %s. y_train has shape %s while y_test has shape %s\" %(y.shape, y_train.shape, y_test.shape))"
   ]
  },
  {
   "cell_type": "code",
   "execution_count": 65,
   "id": "d38f5ebf-34c9-4b24-a0d0-70271b9a2b2f",
   "metadata": {
    "tags": []
   },
   "outputs": [],
   "source": [
    "clf = DecisionTreeClassifier(random_state=2023)"
   ]
  },
  {
   "cell_type": "code",
   "execution_count": 66,
   "id": "3c6c6701-499c-4f20-a87a-3e587e503685",
   "metadata": {
    "tags": []
   },
   "outputs": [
    {
     "data": {
      "text/html": [
       "<style>#sk-container-id-2 {color: black;}#sk-container-id-2 pre{padding: 0;}#sk-container-id-2 div.sk-toggleable {background-color: white;}#sk-container-id-2 label.sk-toggleable__label {cursor: pointer;display: block;width: 100%;margin-bottom: 0;padding: 0.3em;box-sizing: border-box;text-align: center;}#sk-container-id-2 label.sk-toggleable__label-arrow:before {content: \"▸\";float: left;margin-right: 0.25em;color: #696969;}#sk-container-id-2 label.sk-toggleable__label-arrow:hover:before {color: black;}#sk-container-id-2 div.sk-estimator:hover label.sk-toggleable__label-arrow:before {color: black;}#sk-container-id-2 div.sk-toggleable__content {max-height: 0;max-width: 0;overflow: hidden;text-align: left;background-color: #f0f8ff;}#sk-container-id-2 div.sk-toggleable__content pre {margin: 0.2em;color: black;border-radius: 0.25em;background-color: #f0f8ff;}#sk-container-id-2 input.sk-toggleable__control:checked~div.sk-toggleable__content {max-height: 200px;max-width: 100%;overflow: auto;}#sk-container-id-2 input.sk-toggleable__control:checked~label.sk-toggleable__label-arrow:before {content: \"▾\";}#sk-container-id-2 div.sk-estimator input.sk-toggleable__control:checked~label.sk-toggleable__label {background-color: #d4ebff;}#sk-container-id-2 div.sk-label input.sk-toggleable__control:checked~label.sk-toggleable__label {background-color: #d4ebff;}#sk-container-id-2 input.sk-hidden--visually {border: 0;clip: rect(1px 1px 1px 1px);clip: rect(1px, 1px, 1px, 1px);height: 1px;margin: -1px;overflow: hidden;padding: 0;position: absolute;width: 1px;}#sk-container-id-2 div.sk-estimator {font-family: monospace;background-color: #f0f8ff;border: 1px dotted black;border-radius: 0.25em;box-sizing: border-box;margin-bottom: 0.5em;}#sk-container-id-2 div.sk-estimator:hover {background-color: #d4ebff;}#sk-container-id-2 div.sk-parallel-item::after {content: \"\";width: 100%;border-bottom: 1px solid gray;flex-grow: 1;}#sk-container-id-2 div.sk-label:hover label.sk-toggleable__label {background-color: #d4ebff;}#sk-container-id-2 div.sk-serial::before {content: \"\";position: absolute;border-left: 1px solid gray;box-sizing: border-box;top: 0;bottom: 0;left: 50%;z-index: 0;}#sk-container-id-2 div.sk-serial {display: flex;flex-direction: column;align-items: center;background-color: white;padding-right: 0.2em;padding-left: 0.2em;position: relative;}#sk-container-id-2 div.sk-item {position: relative;z-index: 1;}#sk-container-id-2 div.sk-parallel {display: flex;align-items: stretch;justify-content: center;background-color: white;position: relative;}#sk-container-id-2 div.sk-item::before, #sk-container-id-2 div.sk-parallel-item::before {content: \"\";position: absolute;border-left: 1px solid gray;box-sizing: border-box;top: 0;bottom: 0;left: 50%;z-index: -1;}#sk-container-id-2 div.sk-parallel-item {display: flex;flex-direction: column;z-index: 1;position: relative;background-color: white;}#sk-container-id-2 div.sk-parallel-item:first-child::after {align-self: flex-end;width: 50%;}#sk-container-id-2 div.sk-parallel-item:last-child::after {align-self: flex-start;width: 50%;}#sk-container-id-2 div.sk-parallel-item:only-child::after {width: 0;}#sk-container-id-2 div.sk-dashed-wrapped {border: 1px dashed gray;margin: 0 0.4em 0.5em 0.4em;box-sizing: border-box;padding-bottom: 0.4em;background-color: white;}#sk-container-id-2 div.sk-label label {font-family: monospace;font-weight: bold;display: inline-block;line-height: 1.2em;}#sk-container-id-2 div.sk-label-container {text-align: center;}#sk-container-id-2 div.sk-container {/* jupyter's `normalize.less` sets `[hidden] { display: none; }` but bootstrap.min.css set `[hidden] { display: none !important; }` so we also need the `!important` here to be able to override the default hidden behavior on the sphinx rendered scikit-learn.org. See: https://github.com/scikit-learn/scikit-learn/issues/21755 */display: inline-block !important;position: relative;}#sk-container-id-2 div.sk-text-repr-fallback {display: none;}</style><div id=\"sk-container-id-2\" class=\"sk-top-container\"><div class=\"sk-text-repr-fallback\"><pre>DecisionTreeClassifier(random_state=2023)</pre><b>In a Jupyter environment, please rerun this cell to show the HTML representation or trust the notebook. <br />On GitHub, the HTML representation is unable to render, please try loading this page with nbviewer.org.</b></div><div class=\"sk-container\" hidden><div class=\"sk-item\"><div class=\"sk-estimator sk-toggleable\"><input class=\"sk-toggleable__control sk-hidden--visually\" id=\"sk-estimator-id-2\" type=\"checkbox\" checked><label for=\"sk-estimator-id-2\" class=\"sk-toggleable__label sk-toggleable__label-arrow\">DecisionTreeClassifier</label><div class=\"sk-toggleable__content\"><pre>DecisionTreeClassifier(random_state=2023)</pre></div></div></div></div></div>"
      ],
      "text/plain": [
       "DecisionTreeClassifier(random_state=2023)"
      ]
     },
     "execution_count": 66,
     "metadata": {},
     "output_type": "execute_result"
    }
   ],
   "source": [
    "clf.fit(X_train, y_train)"
   ]
  },
  {
   "cell_type": "code",
   "execution_count": 67,
   "id": "bfe49af1-8d95-4cde-ba5f-1ea44a692f75",
   "metadata": {
    "tags": []
   },
   "outputs": [
    {
     "data": {
      "text/plain": [
       "array([0, 0, 1, 1, 0, 0, 1, 0, 0, 1, 1, 1, 1, 1, 1, 1, 1, 1, 0, 1, 1, 0,\n",
       "       1, 1, 1, 1, 1, 1, 1, 1, 1, 0, 0, 1, 0, 1, 0, 1, 0, 1, 0, 1, 1, 1,\n",
       "       0, 0, 1, 1, 1, 1, 1, 1, 1, 1, 1, 1, 1, 0, 0, 1, 0, 1, 1, 1, 1, 1,\n",
       "       1, 1, 1, 1, 1, 1, 1, 0, 1, 0, 0, 0, 0, 0, 1, 1, 0, 1, 1, 1, 0, 1,\n",
       "       1, 1, 1, 0, 0, 1, 1, 1, 0, 1, 1, 1, 0, 0, 1, 1, 1, 1, 0, 0, 1, 1,\n",
       "       1, 1, 0, 1, 0, 1, 1, 0, 1, 0, 1, 1, 0, 1, 1, 1, 1, 0, 1, 1, 1, 1,\n",
       "       1, 1, 0, 1, 0, 1, 1, 0, 0, 1, 1, 1, 1, 1, 0, 1, 1, 1, 1, 1, 1, 0,\n",
       "       1, 1, 1, 1, 1, 1, 1, 1, 0, 1, 1, 1, 0, 1, 0, 0, 1, 0, 0, 1, 1, 1,\n",
       "       1, 0, 1, 0, 1, 1, 1, 0, 1, 1, 1, 1, 1, 1, 1, 1, 1, 1, 1, 1, 1, 0,\n",
       "       1, 1, 1, 0, 0, 1, 0, 1, 1, 1, 0, 0, 1, 0, 1, 0, 0, 0, 1, 1, 1, 0,\n",
       "       1, 0, 1, 1, 1, 1, 1, 1, 1, 0, 0, 1, 1, 0, 1, 1, 0, 0, 0, 0, 0, 1,\n",
       "       1, 1, 1, 1, 1, 0, 0, 1, 1, 1, 1, 1, 1, 0, 0, 1, 1, 0, 1, 1, 1, 1,\n",
       "       1, 1, 1, 1, 0, 1, 0, 0, 1, 1, 1, 1, 1, 1, 0, 1, 1, 0, 0, 1, 1, 0,\n",
       "       0, 1, 0, 1, 0, 1, 1, 0, 1, 1, 1, 0, 1, 1, 0, 0, 1, 1, 0, 1, 1, 1,\n",
       "       1, 1, 1, 0, 0, 0, 0, 0, 1, 1, 0, 0, 1, 0, 0, 0, 1, 0, 1, 0, 1, 1,\n",
       "       1, 0, 0, 0, 0, 1, 1, 1, 0, 0, 0, 0, 1, 0, 1, 1, 0, 0, 0, 0, 1, 1,\n",
       "       1, 1, 1, 0, 0, 1, 1, 0, 1, 1, 1, 1, 1, 0, 1, 0, 0, 0, 0, 0, 0, 0,\n",
       "       1, 0, 1, 0, 1, 1, 1, 1, 1, 1, 1, 1, 1, 0, 1, 1, 1, 1, 1, 1, 1, 0,\n",
       "       1, 1, 0, 1, 0, 0, 1, 1, 1, 0, 1, 1, 1, 0, 0, 1, 0, 1, 0, 1, 1, 0,\n",
       "       0, 0, 1, 0, 0, 1, 1, 0, 0, 1, 1, 0, 1, 1, 1, 0, 0, 1, 1, 0, 1, 1,\n",
       "       1, 1, 1, 1, 1, 1, 1, 1, 1, 1, 1, 1, 0, 0, 1, 0, 1, 1, 1, 1, 1, 1,\n",
       "       0, 0, 1, 1, 1, 1, 1, 0, 1, 1, 1, 0, 1, 1, 1, 1, 0, 0, 0, 1, 1, 1,\n",
       "       0, 1, 1, 1, 0, 1, 1, 0, 1, 1, 0, 0, 1, 0, 1, 1, 1, 0, 1, 0, 0, 1,\n",
       "       1, 1, 1, 0, 0, 1, 0, 1, 1, 0, 0, 1, 1, 1, 0, 1, 0, 1, 1, 1, 1, 0,\n",
       "       1, 1, 0, 1, 0, 0, 1, 0, 0, 1, 1, 1, 1, 0, 0, 1, 0, 1, 0, 1, 1, 1,\n",
       "       0, 1, 0, 1], dtype=int64)"
      ]
     },
     "execution_count": 67,
     "metadata": {},
     "output_type": "execute_result"
    }
   ],
   "source": [
    "predictions = clf.predict(X_test)\n",
    "predictions"
   ]
  },
  {
   "cell_type": "code",
   "execution_count": 68,
   "id": "add088ba-4c4c-4749-95b4-b13a8e5d6225",
   "metadata": {
    "tags": []
   },
   "outputs": [
    {
     "data": {
      "text/plain": [
       "array([[ 82, 120],\n",
       "       [110, 242]], dtype=int64)"
      ]
     },
     "execution_count": 68,
     "metadata": {},
     "output_type": "execute_result"
    }
   ],
   "source": [
    "confusion_matrix(y_test, predictions)"
   ]
  },
  {
   "cell_type": "code",
   "execution_count": 69,
   "id": "ebca3c2e-6122-4f95-86a3-c6ba37c6ee52",
   "metadata": {
    "tags": []
   },
   "outputs": [
    {
     "data": {
      "text/plain": [
       "0.5848375451263538"
      ]
     },
     "execution_count": 69,
     "metadata": {},
     "output_type": "execute_result"
    }
   ],
   "source": [
    "accuracy_score(y_test, predictions)"
   ]
  },
  {
   "cell_type": "code",
   "execution_count": 70,
   "id": "809aa6f3-fcd5-49a4-8ae7-7cf33dadf334",
   "metadata": {
    "tags": []
   },
   "outputs": [
    {
     "data": {
      "text/plain": [
       "0.6685082872928176"
      ]
     },
     "execution_count": 70,
     "metadata": {},
     "output_type": "execute_result"
    }
   ],
   "source": [
    "precision_score(y_test, predictions)"
   ]
  },
  {
   "cell_type": "code",
   "execution_count": 71,
   "id": "d8817d0f-63a6-4a47-821b-c58a59b71b18",
   "metadata": {
    "tags": []
   },
   "outputs": [
    {
     "data": {
      "text/plain": [
       "0.6875"
      ]
     },
     "execution_count": 71,
     "metadata": {},
     "output_type": "execute_result"
    }
   ],
   "source": [
    "recall_score(y_test, predictions)"
   ]
  },
  {
   "cell_type": "code",
   "execution_count": 72,
   "id": "01e40363-eb95-4393-bd4d-a2a049d1da3f",
   "metadata": {
    "tags": []
   },
   "outputs": [
    {
     "data": {
      "text/plain": [
       "0.5467202970297029"
      ]
     },
     "execution_count": 72,
     "metadata": {},
     "output_type": "execute_result"
    }
   ],
   "source": [
    "roc_auc_score(y_test, predictions)"
   ]
  },
  {
   "cell_type": "code",
   "execution_count": 73,
   "id": "8ce0fac2-966f-4654-9c68-ea12ee2325a2",
   "metadata": {
    "tags": []
   },
   "outputs": [
    {
     "data": {
      "image/png": "[encoded data removed]",
      "text/plain": [
       "<Figure size 640x480 with 1 Axes>"
      ]
     },
     "metadata": {},
     "output_type": "display_data"
    }
   ],
   "source": [
    "fpr, tpr, _ = roc_curve(y_test, predictions)\n",
    "\n",
    "plt.clf()\n",
    "plt.plot(fpr, tpr)\n",
    "plt.xlabel('FPR')\n",
    "plt.ylabel('TPR')\n",
    "plt.title('ROC curve')\n",
    "plt.show()"
   ]
  },
  {
   "cell_type": "code",
   "execution_count": 74,
   "id": "cb6ee106-6d00-4523-b37d-0cfd48f466a8",
   "metadata": {
    "tags": []
   },
   "outputs": [
    {
     "data": {
      "text/plain": [
       "0.6778711484593837"
      ]
     },
     "execution_count": 74,
     "metadata": {},
     "output_type": "execute_result"
    }
   ],
   "source": [
    "f1_score(y_test, predictions)"
   ]
  },
  {
   "cell_type": "code",
   "execution_count": 75,
   "id": "71e8ffb5-3b6b-4443-ae73-f51de6340f73",
   "metadata": {
    "tags": []
   },
   "outputs": [
    {
     "data": {
      "text/plain": [
       "0.6722222222222222"
      ]
     },
     "execution_count": 75,
     "metadata": {},
     "output_type": "execute_result"
    }
   ],
   "source": [
    "fbeta_score(y_test, predictions, beta=0.5)"
   ]
  },
  {
   "cell_type": "markdown",
   "id": "37eee715-75e9-4e2a-b04d-1513b05493ec",
   "metadata": {
    "tags": []
   },
   "source": [
    "# Regression With column <em>Spent</em>"
   ]
  },
  {
   "cell_type": "code",
   "execution_count": 76,
   "id": "9f0a0e90-9f93-4267-8b86-5919ddc590b4",
   "metadata": {},
   "outputs": [],
   "source": [
    "from sklearn.ensemble import GradientBoostingRegressor, RandomForestRegressor\n",
    "from sklearn.tree import DecisionTreeRegressor\n",
    "from sklearn.model_selection import GridSearchCV"
   ]
  },
  {
   "cell_type": "code",
   "execution_count": 77,
   "id": "d2acd1e9-21dd-4fcd-92b1-afe8183e1e4c",
   "metadata": {
    "tags": []
   },
   "outputs": [],
   "source": [
    "data2 = data.copy()\n",
    "X = data2.drop(['Marital_Status', 'Education', 'Dt_Customer', 'Spent'], axis=1)\n",
    "y = data['Spent'].to_frame()"
   ]
  },
  {
   "cell_type": "code",
   "execution_count": 78,
   "id": "937ffaa3-1672-44f4-867f-273db53807de",
   "metadata": {
    "tags": []
   },
   "outputs": [
    {
     "name": "stdout",
     "output_type": "stream",
     "text": [
      "<class 'pandas.core.frame.DataFrame'>\n",
      "Index: 2216 entries, 0 to 2239\n",
      "Data columns (total 22 columns):\n",
      " #   Column          Non-Null Count  Dtype         \n",
      "---  ------          --------------  -----         \n",
      " 0   ID              2216 non-null   int64         \n",
      " 1   Education       2216 non-null   object        \n",
      " 2   Marital_Status  2216 non-null   int64         \n",
      " 3   Income          2216 non-null   float64       \n",
      " 4   Kidhome         2216 non-null   int64         \n",
      " 5   Teenhome        2216 non-null   int64         \n",
      " 6   Dt_Customer     2216 non-null   datetime64[ns]\n",
      " 7   Recency         2216 non-null   int64         \n",
      " 8   Wines           2216 non-null   int64         \n",
      " 9   Fruits          2216 non-null   int64         \n",
      " 10  Meat            2216 non-null   int64         \n",
      " 11  Fish            2216 non-null   int64         \n",
      " 12  Sweets          2216 non-null   int64         \n",
      " 13  Gold            2216 non-null   int64         \n",
      " 14  DealsPurch      2216 non-null   int64         \n",
      " 15  WebPurch        2216 non-null   int64         \n",
      " 16  CatalogPurch    2216 non-null   int64         \n",
      " 17  StorePurch      2216 non-null   int64         \n",
      " 18  WebVisits       2216 non-null   int64         \n",
      " 19  Age             2216 non-null   int64         \n",
      " 20  Kids            2216 non-null   int64         \n",
      " 21  Spent           2216 non-null   int64         \n",
      "dtypes: datetime64[ns](1), float64(1), int64(19), object(1)\n",
      "memory usage: 398.2+ KB\n"
     ]
    }
   ],
   "source": [
    "data2.info()"
   ]
  },
  {
   "cell_type": "markdown",
   "id": "4168cdb1-c357-4d1b-aac3-685dcf05e11e",
   "metadata": {},
   "source": [
    "Displaying the contents of the DataFrame 'X'"
   ]
  },
  {
   "cell_type": "code",
   "execution_count": 79,
   "id": "879ddd73-1cb0-41bd-9d30-524ce08dc3b1",
   "metadata": {
    "tags": []
   },
   "outputs": [
    {
     "data": {
      "text/html": [
       "<div>\n",
       "<style scoped>\n",
       "    .dataframe tbody tr th:only-of-type {\n",
       "        vertical-align: middle;\n",
       "    }\n",
       "\n",
       "    .dataframe tbody tr th {\n",
       "        vertical-align: top;\n",
       "    }\n",
       "\n",
       "    .dataframe thead th {\n",
       "        text-align: right;\n",
       "    }\n",
       "</style>\n",
       "<table border=\"1\" class=\"dataframe\">\n",
       "  <thead>\n",
       "    <tr style=\"text-align: right;\">\n",
       "      <th></th>\n",
       "      <th>ID</th>\n",
       "      <th>Income</th>\n",
       "      <th>Kidhome</th>\n",
       "      <th>Teenhome</th>\n",
       "      <th>Recency</th>\n",
       "      <th>Wines</th>\n",
       "      <th>Fruits</th>\n",
       "      <th>Meat</th>\n",
       "      <th>Fish</th>\n",
       "      <th>Sweets</th>\n",
       "      <th>Gold</th>\n",
       "      <th>DealsPurch</th>\n",
       "      <th>WebPurch</th>\n",
       "      <th>CatalogPurch</th>\n",
       "      <th>StorePurch</th>\n",
       "      <th>WebVisits</th>\n",
       "      <th>Age</th>\n",
       "      <th>Kids</th>\n",
       "    </tr>\n",
       "  </thead>\n",
       "  <tbody>\n",
       "    <tr>\n",
       "      <th>0</th>\n",
       "      <td>5524</td>\n",
       "      <td>58138.0</td>\n",
       "      <td>0</td>\n",
       "      <td>0</td>\n",
       "      <td>58</td>\n",
       "      <td>635</td>\n",
       "      <td>88</td>\n",
       "      <td>546</td>\n",
       "      <td>172</td>\n",
       "      <td>88</td>\n",
       "      <td>88</td>\n",
       "      <td>3</td>\n",
       "      <td>8</td>\n",
       "      <td>10</td>\n",
       "      <td>4</td>\n",
       "      <td>7</td>\n",
       "      <td>66</td>\n",
       "      <td>0</td>\n",
       "    </tr>\n",
       "    <tr>\n",
       "      <th>1</th>\n",
       "      <td>2174</td>\n",
       "      <td>46344.0</td>\n",
       "      <td>1</td>\n",
       "      <td>1</td>\n",
       "      <td>38</td>\n",
       "      <td>11</td>\n",
       "      <td>1</td>\n",
       "      <td>6</td>\n",
       "      <td>2</td>\n",
       "      <td>1</td>\n",
       "      <td>6</td>\n",
       "      <td>2</td>\n",
       "      <td>1</td>\n",
       "      <td>1</td>\n",
       "      <td>2</td>\n",
       "      <td>5</td>\n",
       "      <td>69</td>\n",
       "      <td>2</td>\n",
       "    </tr>\n",
       "    <tr>\n",
       "      <th>2</th>\n",
       "      <td>4141</td>\n",
       "      <td>71613.0</td>\n",
       "      <td>0</td>\n",
       "      <td>0</td>\n",
       "      <td>26</td>\n",
       "      <td>426</td>\n",
       "      <td>49</td>\n",
       "      <td>127</td>\n",
       "      <td>111</td>\n",
       "      <td>21</td>\n",
       "      <td>42</td>\n",
       "      <td>1</td>\n",
       "      <td>8</td>\n",
       "      <td>2</td>\n",
       "      <td>10</td>\n",
       "      <td>4</td>\n",
       "      <td>58</td>\n",
       "      <td>0</td>\n",
       "    </tr>\n",
       "    <tr>\n",
       "      <th>3</th>\n",
       "      <td>6182</td>\n",
       "      <td>26646.0</td>\n",
       "      <td>1</td>\n",
       "      <td>0</td>\n",
       "      <td>26</td>\n",
       "      <td>11</td>\n",
       "      <td>4</td>\n",
       "      <td>20</td>\n",
       "      <td>10</td>\n",
       "      <td>3</td>\n",
       "      <td>5</td>\n",
       "      <td>2</td>\n",
       "      <td>2</td>\n",
       "      <td>0</td>\n",
       "      <td>4</td>\n",
       "      <td>6</td>\n",
       "      <td>39</td>\n",
       "      <td>1</td>\n",
       "    </tr>\n",
       "    <tr>\n",
       "      <th>4</th>\n",
       "      <td>5324</td>\n",
       "      <td>58293.0</td>\n",
       "      <td>1</td>\n",
       "      <td>0</td>\n",
       "      <td>94</td>\n",
       "      <td>173</td>\n",
       "      <td>43</td>\n",
       "      <td>118</td>\n",
       "      <td>46</td>\n",
       "      <td>27</td>\n",
       "      <td>15</td>\n",
       "      <td>5</td>\n",
       "      <td>5</td>\n",
       "      <td>3</td>\n",
       "      <td>6</td>\n",
       "      <td>5</td>\n",
       "      <td>42</td>\n",
       "      <td>1</td>\n",
       "    </tr>\n",
       "    <tr>\n",
       "      <th>...</th>\n",
       "      <td>...</td>\n",
       "      <td>...</td>\n",
       "      <td>...</td>\n",
       "      <td>...</td>\n",
       "      <td>...</td>\n",
       "      <td>...</td>\n",
       "      <td>...</td>\n",
       "      <td>...</td>\n",
       "      <td>...</td>\n",
       "      <td>...</td>\n",
       "      <td>...</td>\n",
       "      <td>...</td>\n",
       "      <td>...</td>\n",
       "      <td>...</td>\n",
       "      <td>...</td>\n",
       "      <td>...</td>\n",
       "      <td>...</td>\n",
       "      <td>...</td>\n",
       "    </tr>\n",
       "    <tr>\n",
       "      <th>2235</th>\n",
       "      <td>10870</td>\n",
       "      <td>61223.0</td>\n",
       "      <td>0</td>\n",
       "      <td>1</td>\n",
       "      <td>46</td>\n",
       "      <td>709</td>\n",
       "      <td>43</td>\n",
       "      <td>182</td>\n",
       "      <td>42</td>\n",
       "      <td>118</td>\n",
       "      <td>247</td>\n",
       "      <td>2</td>\n",
       "      <td>9</td>\n",
       "      <td>3</td>\n",
       "      <td>4</td>\n",
       "      <td>5</td>\n",
       "      <td>56</td>\n",
       "      <td>1</td>\n",
       "    </tr>\n",
       "    <tr>\n",
       "      <th>2236</th>\n",
       "      <td>4001</td>\n",
       "      <td>64014.0</td>\n",
       "      <td>2</td>\n",
       "      <td>1</td>\n",
       "      <td>56</td>\n",
       "      <td>406</td>\n",
       "      <td>0</td>\n",
       "      <td>30</td>\n",
       "      <td>0</td>\n",
       "      <td>0</td>\n",
       "      <td>8</td>\n",
       "      <td>7</td>\n",
       "      <td>8</td>\n",
       "      <td>2</td>\n",
       "      <td>5</td>\n",
       "      <td>7</td>\n",
       "      <td>77</td>\n",
       "      <td>3</td>\n",
       "    </tr>\n",
       "    <tr>\n",
       "      <th>2237</th>\n",
       "      <td>7270</td>\n",
       "      <td>56981.0</td>\n",
       "      <td>0</td>\n",
       "      <td>0</td>\n",
       "      <td>91</td>\n",
       "      <td>908</td>\n",
       "      <td>48</td>\n",
       "      <td>217</td>\n",
       "      <td>32</td>\n",
       "      <td>12</td>\n",
       "      <td>24</td>\n",
       "      <td>1</td>\n",
       "      <td>2</td>\n",
       "      <td>3</td>\n",
       "      <td>13</td>\n",
       "      <td>6</td>\n",
       "      <td>42</td>\n",
       "      <td>0</td>\n",
       "    </tr>\n",
       "    <tr>\n",
       "      <th>2238</th>\n",
       "      <td>8235</td>\n",
       "      <td>69245.0</td>\n",
       "      <td>0</td>\n",
       "      <td>1</td>\n",
       "      <td>8</td>\n",
       "      <td>428</td>\n",
       "      <td>30</td>\n",
       "      <td>214</td>\n",
       "      <td>80</td>\n",
       "      <td>30</td>\n",
       "      <td>61</td>\n",
       "      <td>2</td>\n",
       "      <td>6</td>\n",
       "      <td>5</td>\n",
       "      <td>10</td>\n",
       "      <td>3</td>\n",
       "      <td>67</td>\n",
       "      <td>1</td>\n",
       "    </tr>\n",
       "    <tr>\n",
       "      <th>2239</th>\n",
       "      <td>9405</td>\n",
       "      <td>52869.0</td>\n",
       "      <td>1</td>\n",
       "      <td>1</td>\n",
       "      <td>40</td>\n",
       "      <td>84</td>\n",
       "      <td>3</td>\n",
       "      <td>61</td>\n",
       "      <td>2</td>\n",
       "      <td>1</td>\n",
       "      <td>21</td>\n",
       "      <td>3</td>\n",
       "      <td>3</td>\n",
       "      <td>1</td>\n",
       "      <td>4</td>\n",
       "      <td>7</td>\n",
       "      <td>69</td>\n",
       "      <td>2</td>\n",
       "    </tr>\n",
       "  </tbody>\n",
       "</table>\n",
       "<p>2216 rows × 18 columns</p>\n",
       "</div>"
      ],
      "text/plain": [
       "         ID   Income  Kidhome  Teenhome  Recency  Wines  Fruits  Meat  Fish  \\\n",
       "0      5524  58138.0        0         0       58    635      88   546   172   \n",
       "1      2174  46344.0        1         1       38     11       1     6     2   \n",
       "2      4141  71613.0        0         0       26    426      49   127   111   \n",
       "3      6182  26646.0        1         0       26     11       4    20    10   \n",
       "4      5324  58293.0        1         0       94    173      43   118    46   \n",
       "...     ...      ...      ...       ...      ...    ...     ...   ...   ...   \n",
       "2235  10870  61223.0        0         1       46    709      43   182    42   \n",
       "2236   4001  64014.0        2         1       56    406       0    30     0   \n",
       "2237   7270  56981.0        0         0       91    908      48   217    32   \n",
       "2238   8235  69245.0        0         1        8    428      30   214    80   \n",
       "2239   9405  52869.0        1         1       40     84       3    61     2   \n",
       "\n",
       "      Sweets  Gold  DealsPurch  WebPurch  CatalogPurch  StorePurch  WebVisits  \\\n",
       "0         88    88           3         8            10           4          7   \n",
       "1          1     6           2         1             1           2          5   \n",
       "2         21    42           1         8             2          10          4   \n",
       "3          3     5           2         2             0           4          6   \n",
       "4         27    15           5         5             3           6          5   \n",
       "...      ...   ...         ...       ...           ...         ...        ...   \n",
       "2235     118   247           2         9             3           4          5   \n",
       "2236       0     8           7         8             2           5          7   \n",
       "2237      12    24           1         2             3          13          6   \n",
       "2238      30    61           2         6             5          10          3   \n",
       "2239       1    21           3         3             1           4          7   \n",
       "\n",
       "      Age  Kids  \n",
       "0      66     0  \n",
       "1      69     2  \n",
       "2      58     0  \n",
       "3      39     1  \n",
       "4      42     1  \n",
       "...   ...   ...  \n",
       "2235   56     1  \n",
       "2236   77     3  \n",
       "2237   42     0  \n",
       "2238   67     1  \n",
       "2239   69     2  \n",
       "\n",
       "[2216 rows x 18 columns]"
      ]
     },
     "execution_count": 79,
     "metadata": {},
     "output_type": "execute_result"
    }
   ],
   "source": [
    "X"
   ]
  },
  {
   "cell_type": "markdown",
   "id": "98fe8a03-0e3d-4ee6-aeda-3aa1cc4e3960",
   "metadata": {},
   "source": [
    "Displaying the contents of the DataFrame 'y'"
   ]
  },
  {
   "cell_type": "code",
   "execution_count": 80,
   "id": "8c8249ee-d145-46d2-86a5-8989a5ccb135",
   "metadata": {
    "tags": []
   },
   "outputs": [
    {
     "data": {
      "text/html": [
       "<div>\n",
       "<style scoped>\n",
       "    .dataframe tbody tr th:only-of-type {\n",
       "        vertical-align: middle;\n",
       "    }\n",
       "\n",
       "    .dataframe tbody tr th {\n",
       "        vertical-align: top;\n",
       "    }\n",
       "\n",
       "    .dataframe thead th {\n",
       "        text-align: right;\n",
       "    }\n",
       "</style>\n",
       "<table border=\"1\" class=\"dataframe\">\n",
       "  <thead>\n",
       "    <tr style=\"text-align: right;\">\n",
       "      <th></th>\n",
       "      <th>Spent</th>\n",
       "    </tr>\n",
       "  </thead>\n",
       "  <tbody>\n",
       "    <tr>\n",
       "      <th>0</th>\n",
       "      <td>1617</td>\n",
       "    </tr>\n",
       "    <tr>\n",
       "      <th>1</th>\n",
       "      <td>27</td>\n",
       "    </tr>\n",
       "    <tr>\n",
       "      <th>2</th>\n",
       "      <td>776</td>\n",
       "    </tr>\n",
       "    <tr>\n",
       "      <th>3</th>\n",
       "      <td>53</td>\n",
       "    </tr>\n",
       "    <tr>\n",
       "      <th>4</th>\n",
       "      <td>422</td>\n",
       "    </tr>\n",
       "    <tr>\n",
       "      <th>...</th>\n",
       "      <td>...</td>\n",
       "    </tr>\n",
       "    <tr>\n",
       "      <th>2235</th>\n",
       "      <td>1341</td>\n",
       "    </tr>\n",
       "    <tr>\n",
       "      <th>2236</th>\n",
       "      <td>444</td>\n",
       "    </tr>\n",
       "    <tr>\n",
       "      <th>2237</th>\n",
       "      <td>1241</td>\n",
       "    </tr>\n",
       "    <tr>\n",
       "      <th>2238</th>\n",
       "      <td>843</td>\n",
       "    </tr>\n",
       "    <tr>\n",
       "      <th>2239</th>\n",
       "      <td>172</td>\n",
       "    </tr>\n",
       "  </tbody>\n",
       "</table>\n",
       "<p>2216 rows × 1 columns</p>\n",
       "</div>"
      ],
      "text/plain": [
       "      Spent\n",
       "0      1617\n",
       "1        27\n",
       "2       776\n",
       "3        53\n",
       "4       422\n",
       "...     ...\n",
       "2235   1341\n",
       "2236    444\n",
       "2237   1241\n",
       "2238    843\n",
       "2239    172\n",
       "\n",
       "[2216 rows x 1 columns]"
      ]
     },
     "execution_count": 80,
     "metadata": {},
     "output_type": "execute_result"
    }
   ],
   "source": [
    "y"
   ]
  },
  {
   "cell_type": "code",
   "execution_count": 81,
   "id": "3998764b-92c4-457e-bbca-72ff952d865e",
   "metadata": {
    "tags": []
   },
   "outputs": [],
   "source": [
    "X_train, X_test, y_train, y_test = train_test_split(X, y, test_size=0.25, random_state=2024)"
   ]
  },
  {
   "cell_type": "code",
   "execution_count": 103,
   "id": "7eb5623a-e0be-4ec8-9fb5-c6fca9df97fe",
   "metadata": {},
   "outputs": [],
   "source": [
    "import time\n",
    "\n",
    "def analise_model(model, model_name, y_train_analise=y_train): \n",
    "    start_time = time.time()\n",
    "    model.fit(X_train, y_train_analise)\n",
    "    predictions = model.predict(X_test)\n",
    "    print(\"time - {}\".format(time.time()-start_time))\n",
    "    predictions  = predictions.reshape(len(predictions),1 )\n",
    "    # Métricas\n",
    "    print(model)\n",
    "    #print(\"Parâmetros:\")\n",
    "    #print(model.get_params())\n",
    "    print(\"Mean Absolute Error: \", mean_absolute_error(y_test, predictions))\n",
    "    print(\"Mean Squared Error: \", mean_squared_error(y_test, predictions, squared=True))\n",
    "    print('RMSE: ', np.sqrt(metrics.mean_squared_error(y_test, predictions)))\n",
    "\n",
    "    r2 = r2_score(y_test, predictions)\n",
    "    print('R² Score: ', r2)\n",
    "    \n",
    "   # sns.displot(y_test-predictions)\n",
    "   # plt.show() \n",
    "    ax = plt.axes()\n",
    "    ax.plot([0, 500, 1000, 2000, 2500, 3000], [0, 500, 1000, 2000, 2500, 3000], 'r')\n",
    "    plt.scatter(y_test,predictions)\n",
    "    plt.xlabel(\"Actual Values\")\n",
    "    plt.ylabel(\"Predicted Values\")\n",
    "    plt.title(model_name)\n",
    "    plt.annotate(f'R² Score: {r2:.4f}', xy=(0.7, 0.1), xycoords='axes fraction', fontsize=10, ha='center', color='blue')\n",
    "    plt.show()\n",
    "    "
   ]
  },
  {
   "cell_type": "code",
   "execution_count": 104,
   "id": "7459ce43-95fb-4af2-8826-fe1b484c91db",
   "metadata": {},
   "outputs": [
    {
     "name": "stdout",
     "output_type": "stream",
     "text": [
      "time - 0.06824660301208496\n",
      "DecisionTreeRegressor(random_state=2024)\n",
      "Mean Absolute Error:  59.66606498194946\n",
      "Mean Squared Error:  10968.18953068592\n",
      "RMSE:  104.72912455800402\n",
      "R² Score:  0.9689934808966877\n"
     ]
    },
    {
     "data": {
      "image/png": "[encoded data removed]",
      "text/plain": [
       "<Figure size 640x480 with 1 Axes>"
      ]
     },
     "metadata": {},
     "output_type": "display_data"
    },
    {
     "name": "stdout",
     "output_type": "stream",
     "text": [
      "time - 0.5815129280090332\n",
      "RandomForestRegressor(max_depth=10, n_estimators=20, random_state=2024)\n",
      "Mean Absolute Error:  33.75174746052473\n",
      "Mean Squared Error:  3249.692617191025\n",
      "RMSE:  57.00607526563309\n",
      "R² Score:  0.9908132827270241\n"
     ]
    },
    {
     "data": {
      "image/png": "[encoded data removed]",
      "text/plain": [
       "<Figure size 640x480 with 1 Axes>"
      ]
     },
     "metadata": {},
     "output_type": "display_data"
    },
    {
     "name": "stdout",
     "output_type": "stream",
     "text": [
      "time - 0.7948737144470215\n",
      "GradientBoostingRegressor(random_state=2024)\n",
      "Mean Absolute Error:  26.949907129257323\n",
      "Mean Squared Error:  1583.0128107861642\n",
      "RMSE:  39.78709352021286\n",
      "R² Score:  0.99552490255378\n"
     ]
    },
    {
     "data": {
      "image/png": "[encoded data removed]",
      "text/plain": [
       "<Figure size 640x480 with 1 Axes>"
      ]
     },
     "metadata": {},
     "output_type": "display_data"
    }
   ],
   "source": [
    "dtr = DecisionTreeRegressor(random_state=2024)\n",
    "rfr = RandomForestRegressor(n_estimators=20, max_depth=10, criterion='squared_error', random_state=2024)\n",
    "gbr = GradientBoostingRegressor(n_estimators=100, learning_rate=0.1, max_depth=3, random_state=2024)\n",
    "\n",
    "analise_model(dtr, \"Decision Tree Regressor\")\n",
    "analise_model(rfr, \"Random Forest Regressor\" , y_train.values.ravel())\n",
    "analise_model(gbr, \"Gradient Boosting Regressor\")"
   ]
  },
  {
   "cell_type": "code",
   "execution_count": null,
   "id": "1f8b6d3c-a19f-4af0-9e5d-7ec6f5362ae4",
   "metadata": {},
   "outputs": [],
   "source": []
  },
  {
   "cell_type": "code",
   "execution_count": null,
   "id": "651a0583-e9a9-4312-968f-dbfa742181fc",
   "metadata": {},
   "outputs": [],
   "source": []
  }
 ],
 "metadata": {
  "kernelspec": {
   "display_name": "Python 3 (ipykernel)",
   "language": "python",
   "name": "python3"
  },
  "language_info": {
   "codemirror_mode": {
    "name": "ipython",
    "version": 3
   },
   "file_extension": ".py",
   "mimetype": "text/x-python",
   "name": "python",
   "nbconvert_exporter": "python",
   "pygments_lexer": "ipython3",
   "version": "3.11.4"
  }
 },
 "nbformat": 4,
 "nbformat_minor": 5
}
